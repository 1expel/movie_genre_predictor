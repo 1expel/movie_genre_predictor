{
 "cells": [
  {
   "attachments": {},
   "cell_type": "markdown",
   "id": "ec50acf3",
   "metadata": {},
   "source": [
    "# <center><u> CP322: Assignment 3 – Winter 2023 </u> </center>\n",
    "# <center><u>  Due on  March 09, 2023 (Before 11:59 PM) </u> </center>\n",
    " \n",
    " This is a **group (of 2)** assignment, and we will practice the concepts to build classification and regression models etc. There are two parts to this assingment.\n",
    " \n",
    " For this assignment, you must use Python language. You will use this jupyter notebook to write your code without errors. If your code will not run, then you will score zero. Therefore, ensure you have removed all syntax errors from your code and not changing the variable names. Gradescope platform would be used to upload the assignments for grading and autograded question's feedback will be visible to you. The link to the Gradescope assignment is available on Myls course page. \n",
    " \n",
    " For submission, drag and drop your code file(s) into Gradescope and add your partner's name. Make sure that your file name should be as suggested in the assignment, using a different name may score zero.\n",
    " \n",
    " - Please note that the submitted code will be checked for plagiarism. By submitting this zip file, you would confirm that you have not received unauthorized assistance in preparing the assignment. You also confirm that you are aware of course policies for submitted work. \n",
    " \n",
    " - Marks will be deducted from any questions where these requirements are not met.\n",
    " \n",
    " - Multiple attempts will be allowed, and only your last submission before the deadline will be graded. Instructor reserves the right to take off points for not following the directions.\n",
    " \n",
    "<b>Warning:</b> Follow the assignment instructions to the letter in terms of the variable names and function names, as this assignment will be auto-graded except few written type questions. \n",
    "\n",
    "**Important Points**:\n",
    "\n",
    "- For each question in the assignment, please write down your answer in the answer cell(s) right below the question. \n",
    "- It is helpful to have extra cells breaking down the process towards reaching your final answer. If you happen to create new cells below your answer to run codes, **NEVER** add cells between a question cell and the answer cell below it. It will cause errors when autograder run.\n",
    "- Finally, unless it is stated otherwise, try to avoid using python for loops or list comprehensions.  The majority of this part of assignment can be done using builtin commands in Pandas, numpy, searborn, matplotlib, and sklearn functions.  \n",
    "- **Partners.** You may work with one other partner; **Only one person is required to submit to the assignment. On Gradescope, the person who submits *must* also designate their partner so that both of you receive credit.** Once you submit, click into your submission, and there will be an option to Add Group Member in the top right corner. Make sure to **re-add your partner every time you make a new submission**, as Gradescope does not save partner information.\n",
    "\n",
    "- **Rules.** Don't share your code with anybody but your partner. You are welcome to discuss questions with other students, but don't share the answers. The experience of solving the problems in this project will prepare you for exams (and life). If someone asks you for the answer, resist! Instead, you can demonstrate how you would solve a similar problem.\n",
    "\n",
    "- **Tests.** The tests that are given are **not comprehensive** and passing the tests for a question **does not** mean that you answered the question correctly. However, more tests will be applied to verify the correctness of your submission in order to assign your final score, so be careful and check your work! You might want to create your own checks along the way to see if your answers make sense. Additionally, before you submit, make sure that none of your cells take a very long time to run (several minutes). Always it is good to re-run your assignment cells before submission. \n",
    "\n",
    "- **Free Response/written Questions.** Make sure that you put the answers to the written questions in the indicated cell we provide. **Every free response question should include an explanation** that adequately answers the question. The written questions will be manually graded on Gradescope.\n",
    "\n",
    "**Advice.** Develop your answers incrementally. To perform a complicated task, break it up into steps, perform each step on a different line, give a new name to each result, and check that each intermediate result is what you expect. You can add any additional names or functions you want to the provided cells. Make sure that you are using distinct and meaningful variable names throughout the notebook. Along that line, **DO NOT** reuse the variable names that we use when we grade your answers. \n",
    "\n",
    "To get started, load the required packages. Make sure to also run the first cell of this notebook to load `otter`."
   ]
  },
  {
   "attachments": {},
   "cell_type": "markdown",
   "id": "a47fe3be",
   "metadata": {},
   "source": [
    "# Part 1: Handmade Classifier\n",
    "\n",
    " In this part, you will fit a classification model that guesses whether a movie is a comedy or a thriller by using only the number of times chosen words appear in the movie's screenplay. you will fit a class of classification algorithm to make predictions. \n"
   ]
  },
  {
   "cell_type": "code",
   "execution_count": 389,
   "id": "3c22dfe3",
   "metadata": {
    "execution": {
     "iopub.execute_input": "2022-04-16T06:01:56.045203Z",
     "iopub.status.busy": "2022-04-16T06:01:56.044513Z",
     "iopub.status.idle": "2022-04-16T06:01:57.535906Z",
     "shell.execute_reply": "2022-04-16T06:01:57.535091Z"
    },
    "scrolled": true
   },
   "outputs": [],
   "source": [
    "# Run this cell to suppress all FutureWarnings\n",
    "import warnings\n",
    "warnings.filterwarnings(\"ignore\", category=FutureWarning)\n",
    "\n",
    "# for data manipulation\n",
    "import pandas as pd, numpy as np, random\n",
    "\n",
    "#for graphs\n",
    "import matplotlib.pyplot as plt\n",
    "import seaborn as sns\n",
    "%matplotlib inline\n",
    "\n",
    "#models to run\n",
    "from sklearn.linear_model import LinearRegression\n",
    "from sklearn.tree import DecisionTreeClassifier\n",
    "from sklearn import preprocessing\n",
    "from sklearn import neighbors\n",
    "from sklearn import tree\n",
    "\n",
    "#train_test_split\n",
    "from sklearn.model_selection import train_test_split,StratifiedShuffleSplit, GridSearchCV\n",
    "\n",
    "#for cycle\n",
    "from itertools import cycle\n",
    "\n",
    "#metrics\n",
    "from sklearn import metrics\n",
    "from sklearn.metrics import confusion_matrix, classification_report, precision_score, recall_score, f1_score, r2_score, accuracy_score, roc_auc_score\n",
    "from sklearn.model_selection import cross_val_score, KFold\n",
    "from sklearn.ensemble import RandomForestClassifier\n",
    "from sklearn.neighbors import KNeighborsClassifier\n",
    "from sklearn.model_selection import train_test_split, GridSearchCV\n",
    "from sklearn.tree import plot_tree\n",
    "\n",
    "RANDOM_STATE = 42\n",
    "random.seed(RANDOM_STATE)\n",
    "\n",
    "import otter\n",
    "grader = otter.Notebook()"
   ]
  },
  {
   "attachments": {},
   "cell_type": "markdown",
   "id": "1a2aed44",
   "metadata": {},
   "source": [
    "### Dataset Loading\n",
    "\n",
    "Here, we are exploring movie screenplays. We'll be trying to predict each movie's genre from the text of its screenplay. In particular, we have compiled a list of 5,000 words that occur in conversations between movie characters. For each movie, our dataset tells us the frequency with which each of these words occurs in certain conversations in its screenplay. All words have been converted to lowercase.\n",
    "\n",
    "Run the cell below to read the `movies` table. **It may take up to a minute to load.**"
   ]
  },
  {
   "cell_type": "code",
   "execution_count": null,
   "metadata": {},
   "outputs": [],
   "source": []
  },
  {
   "cell_type": "code",
   "execution_count": 390,
   "id": "12414dbf",
   "metadata": {},
   "outputs": [
    {
     "data": {
      "text/html": [
       "<div>\n",
       "<style scoped>\n",
       "    .dataframe tbody tr th:only-of-type {\n",
       "        vertical-align: middle;\n",
       "    }\n",
       "\n",
       "    .dataframe tbody tr th {\n",
       "        vertical-align: top;\n",
       "    }\n",
       "\n",
       "    .dataframe thead th {\n",
       "        text-align: right;\n",
       "    }\n",
       "</style>\n",
       "<table border=\"1\" class=\"dataframe\">\n",
       "  <thead>\n",
       "    <tr style=\"text-align: right;\">\n",
       "      <th></th>\n",
       "      <th>Title</th>\n",
       "      <th>Year</th>\n",
       "      <th>Rating</th>\n",
       "      <th>Genre</th>\n",
       "      <th># Words</th>\n",
       "      <th>she</th>\n",
       "      <th>decid</th>\n",
       "      <th>talk</th>\n",
       "      <th>wit</th>\n",
       "      <th>razor</th>\n",
       "      <th>...</th>\n",
       "      <th>eight</th>\n",
       "      <th>morgu</th>\n",
       "      <th>comin</th>\n",
       "      <th>style</th>\n",
       "      <th>cadet</th>\n",
       "      <th>uh</th>\n",
       "      <th>uhuh</th>\n",
       "      <th>earn</th>\n",
       "      <th>tini</th>\n",
       "      <th>volunt</th>\n",
       "    </tr>\n",
       "  </thead>\n",
       "  <tbody>\n",
       "    <tr>\n",
       "      <th>0</th>\n",
       "      <td>10 things i hate about you</td>\n",
       "      <td>1999</td>\n",
       "      <td>6.9</td>\n",
       "      <td>comedy</td>\n",
       "      <td>5341</td>\n",
       "      <td>0.006167</td>\n",
       "      <td>0.000597</td>\n",
       "      <td>0.001591</td>\n",
       "      <td>0.000199</td>\n",
       "      <td>0.0</td>\n",
       "      <td>...</td>\n",
       "      <td>0.000000</td>\n",
       "      <td>0.000000</td>\n",
       "      <td>0.000000</td>\n",
       "      <td>0.000000</td>\n",
       "      <td>0.0</td>\n",
       "      <td>0.000597</td>\n",
       "      <td>0.0</td>\n",
       "      <td>0.000000</td>\n",
       "      <td>0.0</td>\n",
       "      <td>0.0</td>\n",
       "    </tr>\n",
       "    <tr>\n",
       "      <th>1</th>\n",
       "      <td>sister act</td>\n",
       "      <td>1992</td>\n",
       "      <td>5.9</td>\n",
       "      <td>comedy</td>\n",
       "      <td>7401</td>\n",
       "      <td>0.009293</td>\n",
       "      <td>0.000000</td>\n",
       "      <td>0.001971</td>\n",
       "      <td>0.000563</td>\n",
       "      <td>0.0</td>\n",
       "      <td>...</td>\n",
       "      <td>0.000000</td>\n",
       "      <td>0.000000</td>\n",
       "      <td>0.000000</td>\n",
       "      <td>0.000141</td>\n",
       "      <td>0.0</td>\n",
       "      <td>0.000000</td>\n",
       "      <td>0.0</td>\n",
       "      <td>0.000000</td>\n",
       "      <td>0.0</td>\n",
       "      <td>0.0</td>\n",
       "    </tr>\n",
       "    <tr>\n",
       "      <th>2</th>\n",
       "      <td>the boondock saints</td>\n",
       "      <td>1999</td>\n",
       "      <td>7.8</td>\n",
       "      <td>thriller</td>\n",
       "      <td>5705</td>\n",
       "      <td>0.002246</td>\n",
       "      <td>0.000561</td>\n",
       "      <td>0.002433</td>\n",
       "      <td>0.000374</td>\n",
       "      <td>0.0</td>\n",
       "      <td>...</td>\n",
       "      <td>0.000749</td>\n",
       "      <td>0.000000</td>\n",
       "      <td>0.000374</td>\n",
       "      <td>0.000000</td>\n",
       "      <td>0.0</td>\n",
       "      <td>0.001310</td>\n",
       "      <td>0.0</td>\n",
       "      <td>0.000187</td>\n",
       "      <td>0.0</td>\n",
       "      <td>0.0</td>\n",
       "    </tr>\n",
       "    <tr>\n",
       "      <th>3</th>\n",
       "      <td>mystery men</td>\n",
       "      <td>1999</td>\n",
       "      <td>5.9</td>\n",
       "      <td>comedy</td>\n",
       "      <td>3144</td>\n",
       "      <td>0.003308</td>\n",
       "      <td>0.000000</td>\n",
       "      <td>0.001985</td>\n",
       "      <td>0.000000</td>\n",
       "      <td>0.0</td>\n",
       "      <td>...</td>\n",
       "      <td>0.000331</td>\n",
       "      <td>0.000000</td>\n",
       "      <td>0.000000</td>\n",
       "      <td>0.000662</td>\n",
       "      <td>0.0</td>\n",
       "      <td>0.000662</td>\n",
       "      <td>0.0</td>\n",
       "      <td>0.000000</td>\n",
       "      <td>0.0</td>\n",
       "      <td>0.0</td>\n",
       "    </tr>\n",
       "    <tr>\n",
       "      <th>4</th>\n",
       "      <td>blade</td>\n",
       "      <td>1998</td>\n",
       "      <td>7.0</td>\n",
       "      <td>thriller</td>\n",
       "      <td>2886</td>\n",
       "      <td>0.001098</td>\n",
       "      <td>0.000000</td>\n",
       "      <td>0.001098</td>\n",
       "      <td>0.000000</td>\n",
       "      <td>0.0</td>\n",
       "      <td>...</td>\n",
       "      <td>0.000000</td>\n",
       "      <td>0.000366</td>\n",
       "      <td>0.000000</td>\n",
       "      <td>0.000000</td>\n",
       "      <td>0.0</td>\n",
       "      <td>0.000000</td>\n",
       "      <td>0.0</td>\n",
       "      <td>0.000000</td>\n",
       "      <td>0.0</td>\n",
       "      <td>0.0</td>\n",
       "    </tr>\n",
       "  </tbody>\n",
       "</table>\n",
       "<p>5 rows × 5005 columns</p>\n",
       "</div>"
      ],
      "text/plain": [
       "                        Title  Year  Rating     Genre  # Words       she  \\\n",
       "0  10 things i hate about you  1999     6.9    comedy     5341  0.006167   \n",
       "1                  sister act  1992     5.9    comedy     7401  0.009293   \n",
       "2         the boondock saints  1999     7.8  thriller     5705  0.002246   \n",
       "3                 mystery men  1999     5.9    comedy     3144  0.003308   \n",
       "4                       blade  1998     7.0  thriller     2886  0.001098   \n",
       "\n",
       "      decid      talk       wit  razor  ...     eight     morgu     comin  \\\n",
       "0  0.000597  0.001591  0.000199    0.0  ...  0.000000  0.000000  0.000000   \n",
       "1  0.000000  0.001971  0.000563    0.0  ...  0.000000  0.000000  0.000000   \n",
       "2  0.000561  0.002433  0.000374    0.0  ...  0.000749  0.000000  0.000374   \n",
       "3  0.000000  0.001985  0.000000    0.0  ...  0.000331  0.000000  0.000000   \n",
       "4  0.000000  0.001098  0.000000    0.0  ...  0.000000  0.000366  0.000000   \n",
       "\n",
       "      style  cadet        uh  uhuh      earn  tini  volunt  \n",
       "0  0.000000    0.0  0.000597   0.0  0.000000   0.0     0.0  \n",
       "1  0.000141    0.0  0.000000   0.0  0.000000   0.0     0.0  \n",
       "2  0.000000    0.0  0.001310   0.0  0.000187   0.0     0.0  \n",
       "3  0.000662    0.0  0.000662   0.0  0.000000   0.0     0.0  \n",
       "4  0.000000    0.0  0.000000   0.0  0.000000   0.0     0.0  \n",
       "\n",
       "[5 rows x 5005 columns]"
      ]
     },
     "execution_count": 390,
     "metadata": {},
     "output_type": "execute_result"
    }
   ],
   "source": [
    "movies = pd.read_csv('https://raw.githubusercontent.com/sukhjitsehra/datasets/master/CP322/movies.csv')\n",
    "movies.head()"
   ]
  },
  {
   "cell_type": "markdown",
   "id": "c94bdf86",
   "metadata": {},
   "source": [
    "Here is one row of the table and some of the frequencies of words that were said in the movie."
   ]
  },
  {
   "cell_type": "code",
   "execution_count": 391,
   "id": "ee9ac01f",
   "metadata": {},
   "outputs": [
    {
     "data": {
      "text/html": [
       "<div>\n",
       "<style scoped>\n",
       "    .dataframe tbody tr th:only-of-type {\n",
       "        vertical-align: middle;\n",
       "    }\n",
       "\n",
       "    .dataframe tbody tr th {\n",
       "        vertical-align: top;\n",
       "    }\n",
       "\n",
       "    .dataframe thead th {\n",
       "        text-align: right;\n",
       "    }\n",
       "</style>\n",
       "<table border=\"1\" class=\"dataframe\">\n",
       "  <thead>\n",
       "    <tr style=\"text-align: right;\">\n",
       "      <th></th>\n",
       "      <th>Title</th>\n",
       "      <th>Year</th>\n",
       "      <th>Rating</th>\n",
       "      <th>Genre</th>\n",
       "      <th># Words</th>\n",
       "      <th>breez</th>\n",
       "      <th>england</th>\n",
       "      <th>it</th>\n",
       "      <th>bravo</th>\n",
       "    </tr>\n",
       "  </thead>\n",
       "  <tbody>\n",
       "    <tr>\n",
       "      <th>64</th>\n",
       "      <td>runaway bride</td>\n",
       "      <td>1999</td>\n",
       "      <td>5.2</td>\n",
       "      <td>comedy</td>\n",
       "      <td>4895</td>\n",
       "      <td>0.0</td>\n",
       "      <td>0.0</td>\n",
       "      <td>0.023409</td>\n",
       "      <td>0.0</td>\n",
       "    </tr>\n",
       "  </tbody>\n",
       "</table>\n",
       "</div>"
      ],
      "text/plain": [
       "            Title  Year  Rating   Genre  # Words  breez  england        it  \\\n",
       "64  runaway bride  1999     5.2  comedy     4895    0.0      0.0  0.023409   \n",
       "\n",
       "    bravo  \n",
       "64    0.0  "
      ]
     },
     "execution_count": 391,
     "metadata": {},
     "output_type": "execute_result"
    }
   ],
   "source": [
    "movies.iloc[movies.index[movies[\"Title\"]==\"runaway bride\"],[0, 1, 2, 3, 4, 14, 49, 1042, 4004]]"
   ]
  },
  {
   "attachments": {},
   "cell_type": "markdown",
   "id": "1d235bf0",
   "metadata": {},
   "source": [
    "The above cell prints a few columns of the row for the comedy movie *Runaway Bride*.  The movie contains 4895 words. The word \"it\" appears 115 times, as it makes up  $\\frac{115}{4895} \\approx 0.0234092$ of the words in the movie. The word \"england\" doesn't appear at all.\n",
    "\n",
    "Additional context: This numerical representation of a body of text, one that describes only the frequencies of individual words, is called a bag-of-words representation. This is a model that is often used in [NLP](https://en.wikipedia.org/wiki/Natural_language_processing). A lot of information is discarded in this representation: the order of the words, the context of each word, who said what, the cast of characters and actors, etc. However, a bag-of-words representation is often used for machine learning applications as a reasonable starting point, because a great deal of information is also retained and expressed in a convenient and compact format. \n",
    "\n",
    "Now, we will investigate whether this representation is sufficient to build an accurate genre classifier."
   ]
  },
  {
   "cell_type": "markdown",
   "id": "862102e8",
   "metadata": {},
   "source": [
    "All movie titles are unique. The `row_for_title` function provides fast access to the one row for each title. \n",
    "\n",
    "*Note: All movies in our dataset have their titles lower-cased.* "
   ]
  },
  {
   "cell_type": "code",
   "execution_count": 392,
   "id": "7b052a76",
   "metadata": {},
   "outputs": [
    {
     "data": {
      "text/plain": [
       "Title      toy story\n",
       "Year            1995\n",
       "Rating           8.2\n",
       "Genre         comedy\n",
       "# Words         3016\n",
       "             ...    \n",
       "uh          0.002788\n",
       "uhuh             0.0\n",
       "earn             0.0\n",
       "tini             0.0\n",
       "volunt           0.0\n",
       "Name: 98, Length: 5005, dtype: object"
      ]
     },
     "execution_count": 392,
     "metadata": {},
     "output_type": "execute_result"
    }
   ],
   "source": [
    "def row_for_title(title):\n",
    "    # Find the row where the column \"Title\" matches the input title\n",
    "    row = movies.loc[movies[\"Title\"] == title]\n",
    "\n",
    "    # Return the index of the row\n",
    "    return movies.iloc[row.index[0],:]\n",
    "row_for_title('toy story')"
   ]
  },
  {
   "cell_type": "markdown",
   "id": "93f32008",
   "metadata": {},
   "source": [
    "For example, the fastest way to find the frequency of \"fun\" in the movie *Toy Story* is to access the `'fun'` item from its row. Check the original table to see if this worked for you!"
   ]
  },
  {
   "cell_type": "code",
   "execution_count": 393,
   "id": "6b4db569",
   "metadata": {},
   "outputs": [
    {
     "data": {
      "text/plain": [
       "0.0003485535029627"
      ]
     },
     "execution_count": 393,
     "metadata": {},
     "output_type": "execute_result"
    }
   ],
   "source": [
    "row_for_title('toy story')['fun']"
   ]
  },
  {
   "attachments": {},
   "cell_type": "markdown",
   "id": "a67ecff4",
   "metadata": {
    "deletable": false,
    "editable": false
   },
   "source": [
    "**Question 1.0**\n",
    "\n",
    "Set `expected_row_sum` to the number that you __expect__ will result from summing all proportions in each row, excluding the first five columns. Think about what any one row adds up to.\n",
    "\n",
    "<!--\n",
    "BEGIN QUESTION\n",
    "name: q1_0\n",
    "points:\n",
    " - 0\n",
    " - 1\n",
    "-->"
   ]
  },
  {
   "cell_type": "code",
   "execution_count": 394,
   "id": "b2d6436a",
   "metadata": {
    "deletable": false,
    "execution": {
     "iopub.execute_input": "2022-04-16T06:02:01.313346Z",
     "iopub.status.busy": "2022-04-16T06:02:01.313138Z",
     "iopub.status.idle": "2022-04-16T06:02:01.316218Z",
     "shell.execute_reply": "2022-04-16T06:02:01.315560Z"
    }
   },
   "outputs": [],
   "source": [
    "# Set row_sum to a number that's the (approximate) sum of each row of word proportions.\n",
    "expected_row_sum = 1"
   ]
  },
  {
   "cell_type": "code",
   "execution_count": 395,
   "id": "c237c323",
   "metadata": {
    "deletable": false,
    "editable": false
   },
   "outputs": [
    {
     "data": {
      "text/html": [
       "<p><strong><pre style='display: inline;'>q1_0</pre></strong> passed! 🎉</p>"
      ],
      "text/plain": [
       "q1_0 results: All test cases passed!"
      ]
     },
     "execution_count": 395,
     "metadata": {},
     "output_type": "execute_result"
    }
   ],
   "source": [
    "grader.check(\"q1_0\")"
   ]
  },
  {
   "cell_type": "markdown",
   "id": "83405ac0",
   "metadata": {},
   "source": [
    "This dataset was extracted from [a dataset from Cornell University](http://www.cs.cornell.edu/~cristian/Cornell_Movie-Dialogs_Corpus.html). After transforming the dataset (e.g., converting the words to lowercase, removing the naughty words, and converting the counts to frequencies), we created this new dataset containing the frequency of 5000 common words in each movie."
   ]
  },
  {
   "cell_type": "code",
   "execution_count": 396,
   "id": "798313ff",
   "metadata": {},
   "outputs": [
    {
     "name": "stdout",
     "output_type": "stream",
     "text": [
      "Words with frequencies: 5000\n",
      "Movies with genres: 333\n"
     ]
    }
   ],
   "source": [
    "print('Words with frequencies:', len(movies.axes[1]) - 5) # except first 5\n",
    "print('Movies with genres:', len(movies.axes[0]))"
   ]
  },
  {
   "attachments": {},
   "cell_type": "markdown",
   "id": "5b5755ac",
   "metadata": {},
   "source": [
    "#### 1.1. Word Stemming\n",
    "The columns other than \"Title\", \"Year\", \"Rating\", \"Genre\", and \"# Words\" in the `movies` table are all words that appear in some of the movies in our dataset.  These words have been *stemmed*, or abbreviated heuristically, in an attempt to make different [inflected](https://en.wikipedia.org/wiki/Inflection) forms of the same base word into the same string.  For example, the column \"manag\" is the sum of proportions of the words \"manage\", \"manager\", \"managed\", and \"managerial\" (and perhaps others) in each movie. This is a common technique used in machine learning and natural language processing.\n",
    "\n",
    "Stemming makes it a little tricky to search for the words you want to use, so we have provided another table called `vocab_table` that will let you see examples of unstemmed versions of each stemmed word. Run the code below to load it.\n",
    "\n",
    "**Note:** You should use `vocab_table` for the rest of Section 1.1, not `vocab_mapping`. "
   ]
  },
  {
   "cell_type": "code",
   "execution_count": 397,
   "id": "58fa1cce",
   "metadata": {},
   "outputs": [
    {
     "data": {
      "text/html": [
       "<div>\n",
       "<style scoped>\n",
       "    .dataframe tbody tr th:only-of-type {\n",
       "        vertical-align: middle;\n",
       "    }\n",
       "\n",
       "    .dataframe tbody tr th {\n",
       "        vertical-align: top;\n",
       "    }\n",
       "\n",
       "    .dataframe thead th {\n",
       "        text-align: right;\n",
       "    }\n",
       "</style>\n",
       "<table border=\"1\" class=\"dataframe\">\n",
       "  <thead>\n",
       "    <tr style=\"text-align: right;\">\n",
       "      <th></th>\n",
       "      <th>Stem</th>\n",
       "      <th>Word</th>\n",
       "    </tr>\n",
       "  </thead>\n",
       "  <tbody>\n",
       "    <tr>\n",
       "      <th>1100</th>\n",
       "      <td>brief</td>\n",
       "      <td>briefed</td>\n",
       "    </tr>\n",
       "    <tr>\n",
       "      <th>1101</th>\n",
       "      <td>brief</td>\n",
       "      <td>briefs</td>\n",
       "    </tr>\n",
       "    <tr>\n",
       "      <th>1102</th>\n",
       "      <td>brief</td>\n",
       "      <td>brief</td>\n",
       "    </tr>\n",
       "    <tr>\n",
       "      <th>1103</th>\n",
       "      <td>brief</td>\n",
       "      <td>briefing</td>\n",
       "    </tr>\n",
       "    <tr>\n",
       "      <th>1104</th>\n",
       "      <td>creativ</td>\n",
       "      <td>creativity</td>\n",
       "    </tr>\n",
       "    <tr>\n",
       "      <th>1105</th>\n",
       "      <td>creativ</td>\n",
       "      <td>creative</td>\n",
       "    </tr>\n",
       "    <tr>\n",
       "      <th>1106</th>\n",
       "      <td>moscow</td>\n",
       "      <td>moscow</td>\n",
       "    </tr>\n",
       "    <tr>\n",
       "      <th>1107</th>\n",
       "      <td>challeng</td>\n",
       "      <td>challenged</td>\n",
       "    </tr>\n",
       "    <tr>\n",
       "      <th>1108</th>\n",
       "      <td>challeng</td>\n",
       "      <td>challenges</td>\n",
       "    </tr>\n",
       "    <tr>\n",
       "      <th>1109</th>\n",
       "      <td>challeng</td>\n",
       "      <td>challenger</td>\n",
       "    </tr>\n",
       "  </tbody>\n",
       "</table>\n",
       "</div>"
      ],
      "text/plain": [
       "          Stem        Word\n",
       "1100     brief     briefed\n",
       "1101     brief      briefs\n",
       "1102     brief       brief\n",
       "1103     brief    briefing\n",
       "1104   creativ  creativity\n",
       "1105   creativ    creative\n",
       "1106    moscow      moscow\n",
       "1107  challeng  challenged\n",
       "1108  challeng  challenges\n",
       "1109  challeng  challenger"
      ]
     },
     "execution_count": 397,
     "metadata": {},
     "output_type": "execute_result"
    }
   ],
   "source": [
    "# Just run this cell.\n",
    "vocab_mapping = pd.read_csv('https://raw.githubusercontent.com/sukhjitsehra/datasets/master/CP322/stem.csv')\n",
    "stemmed = np.take(movies.columns, np.arange(3, len(movies.columns)))\n",
    "vocab_table = pd.merge(pd.DataFrame({'Stem': stemmed}), vocab_mapping, on='Stem')\n",
    "vocab_table.iloc[1100:1110]"
   ]
  },
  {
   "attachments": {},
   "cell_type": "markdown",
   "id": "3ddce395",
   "metadata": {
    "deletable": false,
    "editable": false
   },
   "source": [
    "**Question 1.1.1**\n",
    "\n",
    "Using `vocab_table`, find the stemmed version of the word \"elements\" and assign the value to `stemmed_message`.\n",
    "\n",
    "<!--\n",
    "BEGIN QUESTION\n",
    "name: q1_1_1\n",
    "points:\n",
    " - 0\n",
    " - 0\n",
    " - 2\n",
    "-->"
   ]
  },
  {
   "cell_type": "code",
   "execution_count": 398,
   "id": "26ed7259",
   "metadata": {
    "execution": {
     "iopub.execute_input": "2022-04-16T06:02:04.512744Z",
     "iopub.status.busy": "2022-04-16T06:02:04.512513Z",
     "iopub.status.idle": "2022-04-16T06:02:04.550718Z",
     "shell.execute_reply": "2022-04-16T06:02:04.539367Z"
    }
   },
   "outputs": [
    {
     "data": {
      "text/plain": [
       "'element'"
      ]
     },
     "execution_count": 398,
     "metadata": {},
     "output_type": "execute_result"
    }
   ],
   "source": [
    "stemmed_message = vocab_table.loc[vocab_table['Word'] == 'elements']\n",
    "stemmed_message = stemmed_message['Stem'].to_string(index=False)\n",
    "stemmed_message"
   ]
  },
  {
   "cell_type": "code",
   "execution_count": 399,
   "id": "85e68c53",
   "metadata": {
    "deletable": false,
    "editable": false
   },
   "outputs": [
    {
     "data": {
      "text/html": [
       "<p><strong><pre style='display: inline;'>q1_1_1</pre></strong> passed! 🍀</p>"
      ],
      "text/plain": [
       "q1_1_1 results: All test cases passed!"
      ]
     },
     "execution_count": 399,
     "metadata": {},
     "output_type": "execute_result"
    }
   ],
   "source": [
    "grader.check(\"q1_1_1\")"
   ]
  },
  {
   "attachments": {},
   "cell_type": "markdown",
   "id": "d7010085",
   "metadata": {
    "deletable": false,
    "editable": false
   },
   "source": [
    "**Question 1.1.2**\n",
    "\n",
    "What stem in the `vocab_table` dataset has the most words that are shortened to it? Assign `most_stem` to that stem. \n",
    "\n",
    "<!--\n",
    "BEGIN QUESTION\n",
    "name: q1_1_2\n",
    "points:\n",
    " - 0\n",
    " - 1\n",
    " - 1\n",
    "-->"
   ]
  },
  {
   "cell_type": "code",
   "execution_count": 400,
   "id": "512f5661",
   "metadata": {
    "execution": {
     "iopub.execute_input": "2022-04-16T06:02:04.587233Z",
     "iopub.status.busy": "2022-04-16T06:02:04.586949Z",
     "iopub.status.idle": "2022-04-16T06:02:04.967683Z",
     "shell.execute_reply": "2022-04-16T06:02:04.966795Z"
    }
   },
   "outputs": [
    {
     "name": "stdout",
     "output_type": "stream",
     "text": [
      "gener\n"
     ]
    }
   ],
   "source": [
    "counts = vocab_table['Stem'].value_counts()\n",
    "most_stem = counts.index.tolist()[0]\n",
    "print(most_stem)"
   ]
  },
  {
   "cell_type": "code",
   "execution_count": 401,
   "id": "0f99d492",
   "metadata": {
    "deletable": false,
    "editable": false
   },
   "outputs": [
    {
     "data": {
      "text/html": [
       "<p><strong><pre style='display: inline;'>q1_1_2</pre></strong> passed! 🚀</p>"
      ],
      "text/plain": [
       "q1_1_2 results: All test cases passed!"
      ]
     },
     "execution_count": 401,
     "metadata": {},
     "output_type": "execute_result"
    }
   ],
   "source": [
    "grader.check(\"q1_1_2\")"
   ]
  },
  {
   "attachments": {},
   "cell_type": "markdown",
   "id": "4e42a870",
   "metadata": {
    "deletable": false,
    "editable": false
   },
   "source": [
    "**Question 1.1.3**\n",
    "\n",
    "What is the longest word in the dataset whose stem wasn't shortened? Assign that to `longest_uncut`. Break ties alphabetically from Z to A (so if your options are \"cat\" or \"bat\", you should pick \"cat\"). Note that when sorting letters, the letter `a` is smaller than the letter `z`.\n",
    "\n",
    "*Hint:* `vocab_table` has 2 columns: one for stems and one for the unstemmed (normal) word. Find the longest word that wasn't cut at all (same length as stem).\n",
    "\n",
    "<!--\n",
    "BEGIN QUESTION\n",
    "name: q1_1_3\n",
    "points:\n",
    " - 1\n",
    " - 3\n",
    "-->"
   ]
  },
  {
   "cell_type": "code",
   "execution_count": 402,
   "id": "e05716bd",
   "metadata": {},
   "outputs": [
    {
     "data": {
      "text/plain": [
       "'misunderstand'"
      ]
     },
     "execution_count": 402,
     "metadata": {},
     "output_type": "execute_result"
    }
   ],
   "source": [
    "# Create a new DataFrame with two new columns: \"Word len\" and \"Stem len\"\n",
    "vocab_table['Word len'] = vocab_table['Word'].apply(len)\n",
    "vocab_table['Stem len'] = vocab_table['Stem'].apply(len)\n",
    "\n",
    "# Create a new column \"len dif\" that shows the difference between \"Word len\" and \"Stem len\"\n",
    "vocab_table['len dif'] = vocab_table['Word len'] - vocab_table['Stem len']\n",
    "\n",
    "# Filter the DataFrame to only include rows where \"len dif\" is 0\n",
    "tbl_with_diff = vocab_table.loc[vocab_table['len dif'] == 0]\n",
    "\n",
    "# Sort the filtered DataFrame by \"Word\" in descending order and \"Word len\" in descending order\n",
    "tbl_with_diff = tbl_with_diff.sort_values(['Word len', 'Word'], ascending=[False, False])\n",
    "\n",
    "# Extract the first value in the \"Word\" column\n",
    "longest_uncut = tbl_with_diff['Word'].iloc[0]\n",
    "longest_uncut"
   ]
  },
  {
   "cell_type": "code",
   "execution_count": 403,
   "id": "093f64d0",
   "metadata": {
    "deletable": false,
    "editable": false
   },
   "outputs": [
    {
     "data": {
      "text/html": [
       "<p><strong><pre style='display: inline;'>q1_1_3</pre></strong> passed! 🙌</p>"
      ],
      "text/plain": [
       "q1_1_3 results: All test cases passed!"
      ]
     },
     "execution_count": 403,
     "metadata": {},
     "output_type": "execute_result"
    }
   ],
   "source": [
    "grader.check(\"q1_1_3\")"
   ]
  },
  {
   "attachments": {},
   "cell_type": "markdown",
   "id": "3afb0fe7",
   "metadata": {},
   "source": [
    "#### 1.2. Exploratory Data Analysis: Linear Regression"
   ]
  },
  {
   "attachments": {},
   "cell_type": "markdown",
   "id": "30480e4f",
   "metadata": {},
   "source": [
    "Let's explore our dataset before trying to build a classifier. To start, we’ll use the associated proportions to investigate the relationship between different words.\n",
    "\n",
    "The first association we'll investigate is the association between the proportion of words that are \"outer\" and the proportion of words that are \"space\". \n",
    "\n",
    "As usual, we'll investigate our data visually before performing any numerical analysis.\n",
    "\n",
    "Run the cell below to plot a scatter diagram of \"space\" proportions vs \"outer\" proportions and to create the `outer_space` dataframe. Each point on the scatter plot represents one movie."
   ]
  },
  {
   "cell_type": "code",
   "execution_count": 404,
   "id": "49d650ee",
   "metadata": {},
   "outputs": [
    {
     "data": {
      "image/png": "[encoded data removed]",
      "text/plain": [
       "<Figure size 1000x800 with 1 Axes>"
      ]
     },
     "metadata": {},
     "output_type": "display_data"
    }
   ],
   "source": [
    "# Select the \"outer\" and \"space\" columns from the DataFrame\n",
    "outer_space = movies[['outer', 'space']]\n",
    "\n",
    "# Create a scatter plot of \"outer\" proportions vs \"space\" proportions\n",
    "outer_space.plot.scatter(x='outer', y='space', figsize=(10, 8))\n",
    "plt.xlim(-0.0005, 0.001)\n",
    "plt.ylim(-0.0005, 0.003)\n",
    "# Rotate the x-axis labels by 45 degrees\n",
    "plt.xticks(rotation=45)\n",
    "plt.draw()"
   ]
  },
  {
   "attachments": {},
   "cell_type": "markdown",
   "id": "05ec27dd",
   "metadata": {
    "deletable": false,
    "editable": false
   },
   "source": [
    "**Question 1.2.1**\n",
    "\n",
    "Looking at that chart it is difficult to see if there is an association. Calculate the correlation coefficient for the potential linear association between proportion of words that are \"outer\" and the proportion of words that are \"space\" for every movie in the dataset, and assign it to `outer_space_cor`. \n",
    "\n",
    "<!--\n",
    "BEGIN QUESTION\n",
    "name: q1_2_1\n",
    "points:\n",
    " - 0\n",
    " - 2\n",
    "-->"
   ]
  },
  {
   "cell_type": "code",
   "execution_count": 405,
   "id": "eedbd577",
   "metadata": {},
   "outputs": [
    {
     "data": {
      "text/plain": [
       "0.3194260787689588"
      ]
     },
     "execution_count": 405,
     "metadata": {},
     "output_type": "execute_result"
    }
   ],
   "source": [
    "# These two arrays should make your code cleaner!\n",
    "outer = movies[\"outer\"]\n",
    "space = movies[\"space\"]\n",
    "\n",
    "# code to find (X_i - mean(X))/std(X)\n",
    "outer_su = (movies['outer'] - outer.mean()) / outer.std()\n",
    "space_su = (movies['space'] - space.mean()) / space.std()\n",
    "\n",
    "# find correlation\n",
    "outer_space_cor = outer_su.corr(space_su)\n",
    "outer_space_cor"
   ]
  },
  {
   "cell_type": "code",
   "execution_count": 406,
   "id": "6c1b4f83",
   "metadata": {
    "deletable": false,
    "editable": false
   },
   "outputs": [
    {
     "data": {
      "text/html": [
       "<p><strong><pre style='display: inline;'>q1_2_1</pre></strong> passed! 🙌</p>"
      ],
      "text/plain": [
       "q1_2_1 results: All test cases passed!"
      ]
     },
     "execution_count": 406,
     "metadata": {},
     "output_type": "execute_result"
    }
   ],
   "source": [
    "grader.check(\"q1_2_1\")"
   ]
  },
  {
   "attachments": {},
   "cell_type": "markdown",
   "id": "dd10fb4f",
   "metadata": {
    "deletable": false,
    "editable": false
   },
   "source": [
    "<!-- BEGIN QUESTION -->\n",
    "\n",
    "**Question 1.2.2 (Manually Graded)**\n",
    "\n",
    "Choose two *different* words in the movies dataset with a magnitude (absolute value) of correlation higher than 0.2 and plot a scatter plot with a line of best fit for them. Please do not pick \"outer\" and \"space\" or \"san\" and \"francisco\". The code to plot the scatter plot and line of best fit is given for you, you just need to calculate the correct values to `cor`, `slope` and `intercept`. \n",
    "\n",
    "*Hint:* It's easier to think of words with a positive correlation, i.e. words that are often mentioned together*. Try to think of common phrases or idioms.\n",
    "\n",
    "<!--\n",
    "BEGIN QUESTION\n",
    "name: q1_2_2\n",
    "manual: true\n",
    "-->"
   ]
  },
  {
   "cell_type": "code",
   "execution_count": 407,
   "id": "4eb89107",
   "metadata": {
    "execution": {
     "iopub.execute_input": "2022-04-16T06:02:05.843183Z",
     "iopub.status.busy": "2022-04-16T06:02:05.842899Z",
     "iopub.status.idle": "2022-04-16T06:02:06.182758Z",
     "shell.execute_reply": "2022-04-16T06:02:06.182099Z"
    }
   },
   "outputs": [
    {
     "data": {
      "image/png": "[encoded data removed]",
      "text/plain": [
       "<Figure size 1000x800 with 1 Axes>"
      ]
     },
     "metadata": {},
     "output_type": "display_data"
    }
   ],
   "source": [
    "word_x = \"cold\" \n",
    "word_y = \"warm\"\n",
    "\n",
    "# These arrays should make your code cleaner!\n",
    "arr_x = movies[\"cold\"]\n",
    "arr_y = movies[\"warm\"]\n",
    "\n",
    "# code to find (X_i - mean(X))/std(X)\n",
    "x_su = (movies['cold'] - arr_x.mean()) / arr_x.std()\n",
    "y_su = (movies['warm'] - arr_y.mean()) / arr_y.std()\n",
    "\n",
    "cor = x_su.corr(y_su)\n",
    "\n",
    "slope = (arr_y.std() / arr_x.std()) * cor\n",
    "intercept = np.polyfit(arr_x, arr_y, slope)\n",
    "\n",
    "# DON'T CHANGE THESE LINES OF CODE\n",
    "# Create a scatter plot of the data\n",
    "ax = movies.plot.scatter(x=word_x, y=word_y, figsize=(10, 8), color='blue')\n",
    "\n",
    "# Add the regression line to the plot\n",
    "max_x = arr_x.max()\n",
    "ax.plot([0, max_x * 1.3], [intercept, intercept + slope * (max_x*1.3)], color='gold', label='Regression Line')\n",
    "\n",
    "# Add the title to the plot\n",
    "plt.title(f\"Correlation: {cor:.3f}, magnitude greater than .2: {abs(cor) >= 0.2}\")\n",
    "\n",
    "# Show the plot\n",
    "plt.draw()"
   ]
  },
  {
   "attachments": {},
   "cell_type": "markdown",
   "id": "b5edfca2",
   "metadata": {
    "deletable": false,
    "editable": false
   },
   "source": [
    "<!-- END QUESTION -->\n",
    "\n",
    "**Question 1.2.3**\n",
    "\n",
    "\n",
    "Imagine that you picked the words \"san\" and \"francisco\" as the two words that you would expect to be correlated because they compose the city name San Francisco. Assign `san_francisco` to either the number '1' or  '2' according to which statement is true regarding the correlation between \"san\" and \"francisco.\" \n",
    "\n",
    "1. \"san\" can also preceed other city names like San Diego and San Jose. This might lead to \"san\" appearing in movies without \"francisco,\" and would reduce the correlation between \"san\" and \"francisco.\"\n",
    "2. \"san\" can also preceed other city names like San Diego and San Jose. The fact that \"san\" could appear more often in front of different cities and without \"francisco\" would increase the correlation between \"san\" and \"francisco.\" \n",
    "\n",
    "<!--\n",
    "BEGIN QUESTION\n",
    "name: q1_2_3\n",
    "points:\n",
    " - 0\n",
    " - 1\n",
    "-->"
   ]
  },
  {
   "cell_type": "code",
   "execution_count": 408,
   "id": "d472c9a6",
   "metadata": {
    "execution": {
     "iopub.execute_input": "2022-04-16T06:02:06.186740Z",
     "iopub.status.busy": "2022-04-16T06:02:06.186514Z",
     "iopub.status.idle": "2022-04-16T06:02:06.190152Z",
     "shell.execute_reply": "2022-04-16T06:02:06.189484Z"
    }
   },
   "outputs": [],
   "source": [
    "san_francisco = 1"
   ]
  },
  {
   "cell_type": "code",
   "execution_count": 409,
   "id": "80b4d843",
   "metadata": {
    "deletable": false,
    "editable": false
   },
   "outputs": [
    {
     "data": {
      "text/html": [
       "<p><strong><pre style='display: inline;'>q1_2_3</pre></strong> passed! 🌈</p>"
      ],
      "text/plain": [
       "q1_2_3 results: All test cases passed!"
      ]
     },
     "execution_count": 409,
     "metadata": {},
     "output_type": "execute_result"
    }
   ],
   "source": [
    "grader.check(\"q1_2_3\")"
   ]
  },
  {
   "attachments": {},
   "cell_type": "markdown",
   "id": "2b305726",
   "metadata": {},
   "source": [
    "#### 1.3. Splitting the dataset\n",
    "\n",
    "Now, we're going to use our `movies` dataset for two purposes.\n",
    "\n",
    "1. First, we want to *train* movie genre classifiers.\n",
    "2. Second, we want to *test* the performance of our classifiers. \n",
    "\n",
    "Hence, we need two different datasets: *training* and *test*. \n",
    "\n",
    "The purpose of a classifier is to classify unseen data that is similar to the training data. The test dataset will help us determine the accuracy of our predictions by comparing the actual genres of the movies with the genres that our classifier predicts. Therefore, we must ensure that there are no movies that appear in both sets. We do so by splitting the dataset randomly. The dataset has already been permuted randomly, so it's easy to split.  We just take the first 85% of the dataset for training and the rest for test. \n",
    "\n",
    "Run the code below (without changing it) to separate the datasets into two tables."
   ]
  },
  {
   "cell_type": "code",
   "execution_count": 410,
   "id": "ecd40faa",
   "metadata": {},
   "outputs": [
    {
     "data": {
      "text/plain": [
       "333"
      ]
     },
     "execution_count": 410,
     "metadata": {},
     "output_type": "execute_result"
    }
   ],
   "source": [
    "movies.shape[0]"
   ]
  },
  {
   "cell_type": "code",
   "execution_count": 411,
   "id": "a0850be9",
   "metadata": {},
   "outputs": [
    {
     "name": "stdout",
     "output_type": "stream",
     "text": [
      "Training:  283 ; Test:  50\n"
     ]
    }
   ],
   "source": [
    "training_proportion = 17/20\n",
    "\n",
    "num_movies = movies.shape[0]\n",
    "num_train = int(num_movies * training_proportion)\n",
    "num_test = num_movies - num_train\n",
    "\n",
    "train_movies = movies.take(np.arange(num_train))\n",
    "test_movies = movies.take(np.arange(num_train, num_movies))\n",
    "\n",
    "print(\"Training: \",   train_movies.shape[0], \";\",\n",
    "      \"Test: \",       test_movies.shape[0])"
   ]
  },
  {
   "attachments": {},
   "cell_type": "markdown",
   "id": "de4c0ce2",
   "metadata": {
    "deletable": false,
    "editable": false
   },
   "source": [
    "<!-- BEGIN QUESTION -->\n",
    "\n",
    "**Question 1.3.1 (Manually Graded)**\n",
    "\n",
    "Draw a horizontal bar chart with two bars that show the proportion of Comedy movies in each dataset (`train_movies` and `test_movies`). The two bars should be labeled \"Training\" and \"Test\". Complete the function `comedy_proportion` first; it should help you create the bar chart. \n",
    "\n",
    "<!--\n",
    "BEGIN QUESTION\n",
    "name: q1_3_1\n",
    "manual: true\n",
    "-->"
   ]
  },
  {
   "cell_type": "code",
   "execution_count": 412,
   "id": "288fbde8",
   "metadata": {},
   "outputs": [
    {
     "data": {
      "image/png": "[encoded data removed]",
      "text/plain": [
       "<Figure size 640x480 with 1 Axes>"
      ]
     },
     "metadata": {},
     "output_type": "display_data"
    }
   ],
   "source": [
    "\n",
    "def comedy_proportion(table):\n",
    "    counts = table['Genre'].value_counts()\n",
    "    return counts['comedy'] / counts.sum()\n",
    "\n",
    "df = {'Train': comedy_proportion(train_movies), 'Test': comedy_proportion(test_movies)}\n",
    "\n",
    "plt.barh(list(df.keys()), list(df.values()), color='maroon')\n",
    "\n",
    "plt.title(\"Comedy Proportion in Training and Test\")\n",
    "\n",
    "plt.draw()\n"
   ]
  },
  {
   "attachments": {},
   "cell_type": "markdown",
   "id": "c219695e",
   "metadata": {},
   "source": [
    "<!-- END QUESTION -->\n",
    "\n",
    "\n",
    "\n",
    "### 2 K-Nearest Neighbors\n",
    "\n",
    "We are going to `simulate` the steps that `K-Nearest Neighbors (k-NN)` algorithm will use for classification, i.e.,  Given some numerical *attributes* (also called *features*) of an unseen example, it decides which category that example belongs to based on its similarity to previously seen examples. Predicting the category of an example is called *labeling*, and the predicted category is also called a *label*.\n",
    "\n",
    "An attribute (feature) we have about each movie is *the proportion of times a particular word appears in the movie*, and the labels are two movie genres: comedy and thriller.  The algorithm requires many previously seen examples for which both the attributes and labels are known: that's the `train_movies` table.\n",
    "\n",
    "To build understanding, we're going to visualize the algorithm instead of just describing it."
   ]
  },
  {
   "attachments": {},
   "cell_type": "markdown",
   "id": "fa566af7",
   "metadata": {},
   "source": [
    "#### 2.1. Classifying a movie\n",
    "\n",
    "In k-NN, we classify a movie by finding the `k` movies in the *training set* that are most similar according to the features we choose. We call those movies with similar features the *nearest neighbors*.  The k-NN algorithm assigns the movie to the most common category among its `k` nearest neighbors.\n",
    "\n",
    "Let's limit ourselves to just 2 features for now, so we can plot each movie.  The features we will use are the proportions of the words \"water\" and \"feel\" in the movie.  Taking the movie *Monty Python and the Holy Grail* (in the test set), 0.000804074 of its words are \"water\" and 0.0010721 are \"feel\". This movie appears in the test set, so let's imagine that we don't yet know its genre.\n",
    "\n",
    "First, we need to make our notion of similarity more precise.  We will say that the *distance* between two movies is the straight-line distance between them when we plot their features on a scatter diagram. \n",
    "\n",
    "**This distance is called the Euclidean (\"yoo-KLID-ee-un\") distance, whose formula is $\\sqrt{(x_1 - x_2)^2 + (y_1 - y_2)^2}$.**\n",
    "\n",
    "For example, in the movie *Clerks.* (in the training set), 0.00016293 of all the words in the movie are \"water\" and 0.00154786 are \"feel\".  Its distance from *Monty Python and the Holy Grail* on this 2-word feature set is $\\sqrt{(0.000804074 - 0.000162933)^2 + (0.0010721 - 0.00154786)^2} \\approx 0.000798379$.  (If we included more or different features, the distance could be different.)\n",
    "\n",
    "A third movie, *The Godfather* (in the training set), has 0 \"water\" and 0.00015122 \"feel\". \n",
    "\n",
    "The function below creates a plot to display the \"water\" and \"feel\" features of a test movie and some training movies. As you can see in the result, *Monty Python and the Holy Grail* is more similar to *Clerks.* than to the *The Godfather* based on these features, which makes sense as both movies are comedy movies, while *The Godfather* is a thriller."
   ]
  },
  {
   "cell_type": "code",
   "execution_count": 413,
   "id": "8d39c31d",
   "metadata": {
    "execution": {
     "iopub.execute_input": "2022-04-16T06:02:06.542334Z",
     "iopub.status.busy": "2022-04-16T06:02:06.542105Z",
     "iopub.status.idle": "2022-04-16T06:02:07.026536Z",
     "shell.execute_reply": "2022-04-16T06:02:07.025632Z"
    }
   },
   "outputs": [
    {
     "data": {
      "image/png": "[encoded data removed]",
      "text/plain": [
       "<Figure size 1200x800 with 1 Axes>"
      ]
     },
     "metadata": {},
     "output_type": "display_data"
    }
   ],
   "source": [
    "# Just run this cell.\n",
    "def plot_with_two_features(test_movie, training_movies, x_feature, y_feature):\n",
    "    \"\"\"Plot a test movie and training movies using two features.\"\"\"\n",
    "    test_row = row_for_title(test_movie)\n",
    "    distances = pd.DataFrame({\n",
    "            x_feature: [test_row[x_feature]],\n",
    "            y_feature: [test_row[y_feature]],\n",
    "            'Color': 0,\n",
    "            'Title': [test_movie]\n",
    "        })\n",
    "\n",
    "    color_map = {'unknown': 0, 'comedy': 1, 'drama': 2, 'action': 3, 'thriller': 4}\n",
    "    for movie in training_movies:\n",
    "        row = row_for_title(movie)\n",
    "        distances = distances.append({\n",
    "            x_feature: row[x_feature],\n",
    "            y_feature: row[y_feature],\n",
    "            'Color': color_map.get(row['Genre']),\n",
    "            'Title': movie\n",
    "        }, ignore_index=True)\n",
    "    fig = plt.figure(figsize=(12, 8))\n",
    "    plt.axis([-0.0008, 0.001, -0.004, 0.007]);\n",
    "    ax = plt.scatter(distances[x_feature], distances[y_feature], c=distances['Color'], s=50)\n",
    "    plt.xlabel(x_feature)\n",
    "    plt.ylabel(y_feature)\n",
    "    for i, title in enumerate(distances['Title']):\n",
    "        ax.axes.annotate(title, (distances[x_feature][i], distances[y_feature][i]))\n",
    "    plt.draw()\n",
    "    \n",
    "training = [\"clerks.\", \"the godfather\"] \n",
    "plot_with_two_features(\"monty python and the holy grail\", training, \"water\", \"feel\")"
   ]
  },
  {
   "attachments": {},
   "cell_type": "markdown",
   "id": "c238abda",
   "metadata": {
    "deletable": false,
    "editable": false
   },
   "source": [
    "**Question 2.1.1**\n",
    "\n",
    "Compute the Euclidean distance (defined in the section above) between the two movies, *Monty Python and the Holy Grail* and *The Godfather*, using the `water` and `feel` features only.  Assign it the name `one_distance`. \n",
    "\n",
    "*Hint:* In the formula for Euclidean distance, think carefully about what `x` and `y` represent. Refer to the example in the text above if you are unsure.\n",
    "\n",
    "<!--\n",
    "BEGIN QUESTION\n",
    "name: q2_1_1\n",
    "points:\n",
    " - 0\n",
    " - 3\n",
    "-->"
   ]
  },
  {
   "cell_type": "code",
   "execution_count": 414,
   "id": "f60f3a57",
   "metadata": {
    "deletable": false,
    "execution": {
     "iopub.execute_input": "2022-04-16T06:02:07.030543Z",
     "iopub.status.busy": "2022-04-16T06:02:07.030207Z",
     "iopub.status.idle": "2022-04-16T06:02:07.041776Z",
     "shell.execute_reply": "2022-04-16T06:02:07.040857Z"
    }
   },
   "outputs": [
    {
     "data": {
      "text/plain": [
       "0.0012225209151294461"
      ]
     },
     "execution_count": 414,
     "metadata": {},
     "output_type": "execute_result"
    }
   ],
   "source": [
    "python = row_for_title(\"monty python and the holy grail\") \n",
    "godfather = row_for_title(\"the godfather\") \n",
    "\n",
    "x1 = python['water']\n",
    "x2 = godfather['water']\n",
    "y1 = python['feel']\n",
    "y2 = godfather['feel']\n",
    "\n",
    "one_distance = np.sqrt((x1-x2)**2 + (y1-y2)**2)\n",
    "one_distance"
   ]
  },
  {
   "cell_type": "code",
   "execution_count": 415,
   "id": "b0e94b81",
   "metadata": {
    "deletable": false,
    "editable": false
   },
   "outputs": [
    {
     "data": {
      "text/html": [
       "<p><strong><pre style='display: inline;'>q2_1_1</pre></strong> passed! 🎉</p>"
      ],
      "text/plain": [
       "q2_1_1 results: All test cases passed!"
      ]
     },
     "execution_count": 415,
     "metadata": {},
     "output_type": "execute_result"
    }
   ],
   "source": [
    "grader.check(\"q2_1_1\")"
   ]
  },
  {
   "cell_type": "markdown",
   "id": "37552f55",
   "metadata": {},
   "source": [
    "Below, we've added a third training movie, *The Silence of the Lambs*. Before, the point closest to *Monty Python and the Holy Grail* was *Clerks.*, a comedy movie. However, now the closest point is *The Silence of the Lambs*, a thriller movie."
   ]
  },
  {
   "cell_type": "code",
   "execution_count": 416,
   "id": "ffcda3ca",
   "metadata": {
    "execution": {
     "iopub.execute_input": "2022-04-16T06:02:07.081610Z",
     "iopub.status.busy": "2022-04-16T06:02:07.080795Z",
     "iopub.status.idle": "2022-04-16T06:02:07.567083Z",
     "shell.execute_reply": "2022-04-16T06:02:07.566469Z"
    }
   },
   "outputs": [
    {
     "data": {
      "image/png": "[encoded data removed]",
      "text/plain": [
       "<Figure size 1200x800 with 1 Axes>"
      ]
     },
     "metadata": {},
     "output_type": "display_data"
    }
   ],
   "source": [
    "training = [\"clerks.\", \"the godfather\", \"the silence of the lambs\"] \n",
    "plot_with_two_features(\"monty python and the holy grail\", training, \"water\", \"feel\") "
   ]
  },
  {
   "attachments": {},
   "cell_type": "markdown",
   "id": "e349c66e",
   "metadata": {
    "deletable": false,
    "editable": false
   },
   "source": [
    "**Question 2.1.2**\n",
    "\n",
    "Complete the function `distance_two_features` that computes the Euclidean distance between any two movies, using two features. The last two lines call your function to show that *Monty Python and the Holy Grail* is closer to *The Silence of the Lambs* than it is to *Clerks*. \n",
    "\n",
    "<!--\n",
    "BEGIN QUESTION\n",
    "name: q2_1_2\n",
    "points:\n",
    " - 1\n",
    " - 2\n",
    "-->"
   ]
  },
  {
   "cell_type": "code",
   "execution_count": 417,
   "id": "4c4635b1",
   "metadata": {
    "deletable": false,
    "execution": {
     "iopub.execute_input": "2022-04-16T06:02:07.571277Z",
     "iopub.status.busy": "2022-04-16T06:02:07.571061Z",
     "iopub.status.idle": "2022-04-16T06:02:07.584130Z",
     "shell.execute_reply": "2022-04-16T06:02:07.583041Z"
    }
   },
   "outputs": [
    {
     "name": "stdout",
     "output_type": "stream",
     "text": [
      "clerks. distance:\t 0.0007983810687227716\n",
      "the silence of the lambs distance:\t 0.00022256314855564847\n"
     ]
    }
   ],
   "source": [
    "def distance_two_features(title0, title1, x_feature, y_feature):\n",
    "    \"\"\"Compute the distance between two movies with titles title0 and title1.\n",
    "    \n",
    "    Only the features named x_feature and y_feature are used when computing the distance.\n",
    "    \"\"\"\n",
    "    \n",
    "    row0 = row_for_title(title0)\n",
    "    row1 = row_for_title(title1)\n",
    "\n",
    "    x1 = row0[x_feature]\n",
    "    x2 = row1[x_feature]\n",
    "    y1 = row0[y_feature]\n",
    "    y2 = row1[y_feature]\n",
    "\n",
    "    return np.sqrt((x1-x2)**2 + (y1-y2)**2)\n",
    "\n",
    "for movie in [\"clerks.\", \"the silence of the lambs\"]:\n",
    "    movie_distance = distance_two_features(movie, \"monty python and the holy grail\", \"water\", \"feel\")\n",
    "    print(movie, 'distance:\\t', movie_distance)"
   ]
  },
  {
   "cell_type": "code",
   "execution_count": 418,
   "id": "da828829",
   "metadata": {
    "deletable": false,
    "editable": false
   },
   "outputs": [
    {
     "data": {
      "text/html": [
       "<p><strong><pre style='display: inline;'>q2_1_2</pre></strong> passed! 🎉</p>"
      ],
      "text/plain": [
       "q2_1_2 results: All test cases passed!"
      ]
     },
     "execution_count": 418,
     "metadata": {},
     "output_type": "execute_result"
    }
   ],
   "source": [
    "grader.check(\"q2_1_2\")"
   ]
  },
  {
   "attachments": {},
   "cell_type": "markdown",
   "id": "2a9911e4",
   "metadata": {
    "deletable": false,
    "editable": false
   },
   "source": [
    "**Question 2.1.3**\n",
    "\n",
    "Define the function `distance_from_python` so that it works as described in its documentation. \n",
    "\n",
    "**Note:** Your solution should not use arithmetic operations directly. Instead, it should make use of existing functionality above!\n",
    "\n",
    "<!--\n",
    "BEGIN QUESTION\n",
    "name: q2_1_3\n",
    "points:\n",
    " - 0\n",
    " - 3\n",
    "-->"
   ]
  },
  {
   "cell_type": "code",
   "execution_count": 419,
   "id": "51924e18",
   "metadata": {
    "deletable": false,
    "execution": {
     "iopub.execute_input": "2022-04-16T06:02:07.611267Z",
     "iopub.status.busy": "2022-04-16T06:02:07.610965Z",
     "iopub.status.idle": "2022-04-16T06:02:07.620053Z",
     "shell.execute_reply": "2022-04-16T06:02:07.619200Z"
    }
   },
   "outputs": [
    {
     "data": {
      "text/plain": [
       "0.0007983810687227716"
      ]
     },
     "execution_count": 419,
     "metadata": {},
     "output_type": "execute_result"
    }
   ],
   "source": [
    "def distance_from_python(title):\n",
    "    \"\"\"The distance between the given movie and \"monty python and the holy grail\", \n",
    "    based on the features \"water\" and \"feel\".\n",
    "    \n",
    "    This function takes a single argument:\n",
    "      title: A string, the name of a movie.\n",
    "    \"\"\"\n",
    "    \n",
    "    return distance_two_features(title, \"monty python and the holy grail\", \"water\", \"feel\")\n",
    "\n",
    "# Calculate the distance between \"Clerks.\" and \"Monty Python and the Holy Grail\"\n",
    "distance_from_python('clerks.')"
   ]
  },
  {
   "cell_type": "code",
   "execution_count": 420,
   "id": "c6491113",
   "metadata": {
    "deletable": false,
    "editable": false
   },
   "outputs": [
    {
     "data": {
      "text/html": [
       "<p><strong><pre style='display: inline;'>q2_1_3</pre></strong> passed! ✨</p>"
      ],
      "text/plain": [
       "q2_1_3 results: All test cases passed!"
      ]
     },
     "execution_count": 420,
     "metadata": {},
     "output_type": "execute_result"
    }
   ],
   "source": [
    "grader.check(\"q2_1_3\")"
   ]
  },
  {
   "attachments": {},
   "cell_type": "markdown",
   "id": "593761fc",
   "metadata": {
    "deletable": false,
    "editable": false
   },
   "source": [
    "**Question 2.1.4**\n",
    "\n",
    "Using the features `\"water\"` and `\"feel\"`, what are the names and genres of the 5 movies in the **training set** closest to *Monty Python and the Holy Grail*?  To answer this question, make a **dataframe** named `close_movies` containing those 5 movies with columns `\"Title\"`, `\"Genre\"`, `\"water\"`, and `\"feel\"`, as well as a column called `\"distance from python\"` that contains the distance from *Monty Python and the Holy Grail*.  The table should be **sorted in ascending order by `\"distance from python\"`**.\n",
    "\n",
    "*Note:* Why are smaller distances from *Monty Python and the Holy Grail* more helpful in helping us classify the movie?\n",
    "\n",
    "*Hint:* Your final dataframe should only have 5 rows. How can you get the first five rows of a dataframe?\n",
    "\n",
    "\n",
    "<!--\n",
    "BEGIN QUESTION\n",
    "name: q2_1_4\n",
    "points:\n",
    " - 1\n",
    " - 0\n",
    " - 1\n",
    " - 3\n",
    "-->"
   ]
  },
  {
   "cell_type": "code",
   "execution_count": 421,
   "id": "d18beee7",
   "metadata": {},
   "outputs": [
    {
     "data": {
      "text/html": [
       "<div>\n",
       "<style scoped>\n",
       "    .dataframe tbody tr th:only-of-type {\n",
       "        vertical-align: middle;\n",
       "    }\n",
       "\n",
       "    .dataframe tbody tr th {\n",
       "        vertical-align: top;\n",
       "    }\n",
       "\n",
       "    .dataframe thead th {\n",
       "        text-align: right;\n",
       "    }\n",
       "</style>\n",
       "<table border=\"1\" class=\"dataframe\">\n",
       "  <thead>\n",
       "    <tr style=\"text-align: right;\">\n",
       "      <th></th>\n",
       "      <th>Title</th>\n",
       "      <th>Genre</th>\n",
       "      <th>water</th>\n",
       "      <th>feel</th>\n",
       "      <th>distance from python</th>\n",
       "    </tr>\n",
       "  </thead>\n",
       "  <tbody>\n",
       "    <tr>\n",
       "      <th>256</th>\n",
       "      <td>alien</td>\n",
       "      <td>thriller</td>\n",
       "      <td>0.000709</td>\n",
       "      <td>0.001241</td>\n",
       "      <td>0.000194</td>\n",
       "    </tr>\n",
       "    <tr>\n",
       "      <th>72</th>\n",
       "      <td>tomorrow never dies</td>\n",
       "      <td>thriller</td>\n",
       "      <td>0.000889</td>\n",
       "      <td>0.000889</td>\n",
       "      <td>0.000202</td>\n",
       "    </tr>\n",
       "    <tr>\n",
       "      <th>225</th>\n",
       "      <td>the silence of the lambs</td>\n",
       "      <td>thriller</td>\n",
       "      <td>0.000596</td>\n",
       "      <td>0.000993</td>\n",
       "      <td>0.000223</td>\n",
       "    </tr>\n",
       "    <tr>\n",
       "      <th>53</th>\n",
       "      <td>innerspace</td>\n",
       "      <td>comedy</td>\n",
       "      <td>0.000522</td>\n",
       "      <td>0.001044</td>\n",
       "      <td>0.000283</td>\n",
       "    </tr>\n",
       "    <tr>\n",
       "      <th>274</th>\n",
       "      <td>some like it hot</td>\n",
       "      <td>comedy</td>\n",
       "      <td>0.000529</td>\n",
       "      <td>0.000951</td>\n",
       "      <td>0.000301</td>\n",
       "    </tr>\n",
       "  </tbody>\n",
       "</table>\n",
       "</div>"
      ],
      "text/plain": [
       "                        Title     Genre     water      feel  \\\n",
       "256                     alien  thriller  0.000709  0.001241   \n",
       "72        tomorrow never dies  thriller  0.000889  0.000889   \n",
       "225  the silence of the lambs  thriller  0.000596  0.000993   \n",
       "53                 innerspace    comedy  0.000522  0.001044   \n",
       "274          some like it hot    comedy  0.000529  0.000951   \n",
       "\n",
       "     distance from python  \n",
       "256              0.000194  \n",
       "72               0.000202  \n",
       "225              0.000223  \n",
       "53               0.000283  \n",
       "274              0.000301  "
      ]
     },
     "execution_count": 421,
     "metadata": {},
     "output_type": "execute_result"
    }
   ],
   "source": [
    "close_movies = train_movies\n",
    "\n",
    "distances = []\n",
    "\n",
    "for title in close_movies['Title']:\n",
    "    dist = distance_from_python(title)\n",
    "    distances.append(dist)\n",
    "\n",
    "close_movies['distance from python'] = distances # make new col\n",
    "\n",
    "close_movies = close_movies.sort_values('distance from python') # sort\n",
    "\n",
    "close_movies = close_movies.head(5) # get first 5 rows\n",
    "\n",
    "close_movies = close_movies[[\"Title\", \"Genre\", \"water\", \"feel\", \"distance from python\"]] # select columns\n",
    "\n",
    "close_movies"
   ]
  },
  {
   "cell_type": "code",
   "execution_count": 422,
   "id": "9e809d75",
   "metadata": {
    "deletable": false,
    "editable": false
   },
   "outputs": [
    {
     "data": {
      "text/html": [
       "<p><strong><pre style='display: inline;'>q2_1_4</pre></strong> passed! 🍀</p>"
      ],
      "text/plain": [
       "q2_1_4 results: All test cases passed!"
      ]
     },
     "execution_count": 422,
     "metadata": {},
     "output_type": "execute_result"
    }
   ],
   "source": [
    "grader.check(\"q2_1_4\")"
   ]
  },
  {
   "attachments": {},
   "cell_type": "markdown",
   "id": "74b65368",
   "metadata": {
    "deletable": false,
    "editable": false
   },
   "source": [
    "**Question 2.1.5**\n",
    "\n",
    "Next, we'll clasify *Monty Python and the Holy Grail* based on the genres of the closest movies. \n",
    "\n",
    "To do so, define the function `most_common` so that it works as described in its documentation below. \n",
    "\n",
    "<!--\n",
    "BEGIN QUESTION\n",
    "name: q2_1_5\n",
    "points:\n",
    " - 3\n",
    "-->"
   ]
  },
  {
   "cell_type": "code",
   "execution_count": 423,
   "id": "bf8a14a6",
   "metadata": {
    "deletable": false,
    "execution": {
     "iopub.execute_input": "2022-04-16T06:02:08.049732Z",
     "iopub.status.busy": "2022-04-16T06:02:08.049529Z",
     "iopub.status.idle": "2022-04-16T06:02:08.057259Z",
     "shell.execute_reply": "2022-04-16T06:02:08.056530Z"
    },
    "scrolled": true
   },
   "outputs": [
    {
     "data": {
      "text/plain": [
       "'thriller'"
      ]
     },
     "execution_count": 423,
     "metadata": {},
     "output_type": "execute_result"
    }
   ],
   "source": [
    "def most_common(df, column):\n",
    "    \"\"\"The most common element in a column of a table.\n",
    "    \n",
    "    This function takes two arguments:\n",
    "      column: The name of a column, a string.\n",
    "      df: dataframe\n",
    "     \n",
    "    It returns the most common value in the label column of the table.\n",
    "    In case of a tie, it returns any one of the most common values.    \n",
    "    \"\"\"\n",
    "    \n",
    "    counts = df[column].value_counts()\n",
    "    return counts.index.tolist()[0]\n",
    "\n",
    "# Calling most_common on your table of 5 nearest neighbors classifies\n",
    "# \"monty python and the holy grail\" as a thriller movie, 3 votes to 2. \n",
    "most_common(close_movies, 'Genre')"
   ]
  },
  {
   "cell_type": "code",
   "execution_count": 424,
   "id": "54fcca38",
   "metadata": {
    "deletable": false,
    "editable": false
   },
   "outputs": [
    {
     "data": {
      "text/html": [
       "<p><strong><pre style='display: inline;'>q2_1_5</pre></strong> passed! 🍀</p>"
      ],
      "text/plain": [
       "q2_1_5 results: All test cases passed!"
      ]
     },
     "execution_count": 424,
     "metadata": {},
     "output_type": "execute_result"
    }
   ],
   "source": [
    "grader.check(\"q2_1_5\")"
   ]
  },
  {
   "cell_type": "markdown",
   "id": "a1efb031",
   "metadata": {},
   "source": [
    "Congratulations are in order -- you've classified your first movie! However, we can see that the classifier doesn't work too well since it categorized *Monty Python and the Holy Grail* as a thriller movie (unless you count the thrilling holy hand grenade scene). Let's see if we can do better!"
   ]
  },
  {
   "attachments": {},
   "cell_type": "markdown",
   "id": "1dac1b20",
   "metadata": {},
   "source": [
    "### 3 Add More Features"
   ]
  },
  {
   "cell_type": "markdown",
   "id": "b8beff4a",
   "metadata": {},
   "source": [
    "Now, we're going to extend our classifier to consider more than two features at a time.\n",
    "\n",
    "Euclidean distance still makes sense with more than two features. For `n` different features, we compute the difference between corresponding feature values for two movies, square each of the `n`  differences, sum up the resulting numbers, and take the square root of the sum."
   ]
  },
  {
   "attachments": {},
   "cell_type": "markdown",
   "id": "02d7a2f6",
   "metadata": {
    "deletable": false,
    "editable": false
   },
   "source": [
    "**Question 3.0**\n",
    "\n",
    "Write a function called `distance` to compute the Euclidean distance between two **arrays** of **numerical** features (e.g. arrays of the proportions of times that different words appear). The function should be able to calculate the Euclidean distance between two arrays of arbitrary (but equal) length.\n",
    "\n",
    "Next, use the function you just defined to compute the distance **between the first and second movie** in the **training set** *using all of the features*.  (Remember that the first five columns of your tables are not features.)\n",
    "\n",
    "*Hint:* Make sure to skip the first five columns of the dataframe before you compute `distance_first_to_second`, as these columns do not contain any features (the proportions of words). \n",
    "\n",
    "<!--\n",
    "BEGIN QUESTION\n",
    "name: q3_0\n",
    "points:\n",
    " - 0.5\n",
    " - 0.5\n",
    " - 0\n",
    " - 0.75\n",
    " - 0.75\n",
    " - 0.75\n",
    " - 0.75\n",
    "-->"
   ]
  },
  {
   "cell_type": "code",
   "execution_count": 425,
   "id": "56a977d0",
   "metadata": {
    "deletable": false,
    "execution": {
     "iopub.execute_input": "2022-04-16T06:02:09.005245Z",
     "iopub.status.busy": "2022-04-16T06:02:09.004354Z",
     "iopub.status.idle": "2022-04-16T06:02:11.635856Z",
     "shell.execute_reply": "2022-04-16T06:02:11.635025Z"
    }
   },
   "outputs": [
    {
     "data": {
      "text/plain": [
       "0.03524219983582989"
      ]
     },
     "execution_count": 425,
     "metadata": {},
     "output_type": "execute_result"
    }
   ],
   "source": [
    "def distance(features_array1, features_array2):\n",
    "    \"\"\"The Euclidean distance between two arrays of feature values.\"\"\"\n",
    "\n",
    "    distance = 0\n",
    "    for i in range(len(features_array1)):\n",
    "        distance = distance + (features_array1[i] - features_array2[i]) ** 2 \n",
    "\n",
    "    return np.sqrt(distance)\n",
    "\n",
    "series0 = test_movies.iloc[0, 5:] # row 0, columns 5 onwards\n",
    "series1 = test_movies.iloc[1, 5:] # row 1, columns 5 onwards\n",
    "\n",
    "features0 = series0.values\n",
    "features1 = series1.values\n",
    "\n",
    "distance_first_to_second = distance(features0, features1)\n",
    "distance_first_to_second\n",
    "\n"
   ]
  },
  {
   "cell_type": "code",
   "execution_count": 426,
   "id": "96b18c39",
   "metadata": {
    "deletable": false,
    "editable": false
   },
   "outputs": [
    {
     "data": {
      "text/html": [
       "<p><strong><pre style='display: inline;'>q3_0</pre></strong> passed! 🎉</p>"
      ],
      "text/plain": [
       "q3_0 results: All test cases passed!"
      ]
     },
     "execution_count": 426,
     "metadata": {},
     "output_type": "execute_result"
    }
   ],
   "source": [
    "grader.check(\"q3_0\")"
   ]
  },
  {
   "attachments": {},
   "cell_type": "markdown",
   "id": "45a129fc",
   "metadata": {},
   "source": [
    "#### 3.1. Creating your own feature set\n",
    "\n",
    "Unfortunately, using all of the features has some downsides.  One clear downside is the lack of *computational efficiency* -- computing Euclidean distances just takes a long time when we have lots of features.  You might have noticed that in the last question!\n",
    "\n",
    "So in this part, we're going to start with just 10-20.  We'd like to choose features that are very *discriminative*. That is, features which lead us to correctly classify as much of the test set as possible.  This process of choosing features that will make a classifier work well is sometimes called *feature selection*, or, more broadly, *feature engineering*."
   ]
  },
  {
   "cell_type": "markdown",
   "id": "6f677932",
   "metadata": {},
   "source": [
    "In this question, we will help you get started on selecting more effective features for distinguishing comedy from thriller movies. The plot below (generated for you) shows the average number of times each word occurs in a comedy movie on the horizontal axis and the average number of times it occurs in an thriller movie on the vertical axis. \n",
    "\n",
    "\n",
    "*Note: The line graphed is the line of best fit, NOT the line y=x.*"
   ]
  },
  {
   "attachments": {},
   "cell_type": "markdown",
   "id": "d80de9bd",
   "metadata": {},
   "source": [
    "![word_plot.png](https://github.com/sukhjitsehra/datasets/blob/master/CP322/images/word_plot.png?raw=true)"
   ]
  },
  {
   "attachments": {},
   "cell_type": "markdown",
   "id": "aa6da892",
   "metadata": {
    "deletable": false,
    "editable": false
   },
   "source": [
    "Questions 3.1.1 through 3.1.4 will ask you to interpret the plot above. For each question, select one of the following choices and assign its number to the provided name.\n",
    "1. The word is common in both comedy and thriller movies \n",
    "2. The word is uncommon in comedy movies and common in thriller movies\n",
    "3. The word is common in comedy movies and uncommon in thriller movies\n",
    "4. The word is uncommon in both comedy and thriller movies\n",
    "5. It is not possible to say from the plot \n",
    "    \n",
    "**Question 3.1.1**\n",
    "\n",
    "What properties do words in the bottom left corner of the plot have? Your answer should be a single integer from 1 to 5, corresponding to the correct statement from the choices above.\n",
    "\n",
    "<!--\n",
    "BEGIN QUESTION\n",
    "name: q3_1_1\n",
    "points:\n",
    " - 0\n",
    " - 1\n",
    "-->"
   ]
  },
  {
   "cell_type": "code",
   "execution_count": 427,
   "id": "cb474905",
   "metadata": {
    "deletable": false,
    "execution": {
     "iopub.execute_input": "2022-04-16T06:02:11.729731Z",
     "iopub.status.busy": "2022-04-16T06:02:11.729405Z",
     "iopub.status.idle": "2022-04-16T06:02:11.733028Z",
     "shell.execute_reply": "2022-04-16T06:02:11.732346Z"
    }
   },
   "outputs": [],
   "source": [
    "bottom_left = 4"
   ]
  },
  {
   "cell_type": "code",
   "execution_count": 428,
   "id": "66dfaa40",
   "metadata": {
    "deletable": false,
    "editable": false
   },
   "outputs": [
    {
     "data": {
      "text/html": [
       "<p><strong><pre style='display: inline;'>q3_1_1</pre></strong> passed! 🙌</p>"
      ],
      "text/plain": [
       "q3_1_1 results: All test cases passed!"
      ]
     },
     "execution_count": 428,
     "metadata": {},
     "output_type": "execute_result"
    }
   ],
   "source": [
    "grader.check(\"q3_1_1\")"
   ]
  },
  {
   "attachments": {},
   "cell_type": "markdown",
   "id": "a04ab6ab",
   "metadata": {
    "deletable": false,
    "editable": false
   },
   "source": [
    "**Question 3.1.2**\n",
    "\n",
    "What properties do words in the bottom right corner have? Your answer should be a single integer from 1 to 5, corresponding to the correct statement from the choices above.\n",
    "\n",
    "<!--\n",
    "BEGIN QUESTION\n",
    "name: q3_1_2\n",
    "points:\n",
    " - 0\n",
    " - 1\n",
    "-->"
   ]
  },
  {
   "cell_type": "code",
   "execution_count": 429,
   "id": "8b1af4f0",
   "metadata": {
    "deletable": false,
    "execution": {
     "iopub.execute_input": "2022-04-16T06:02:11.752253Z",
     "iopub.status.busy": "2022-04-16T06:02:11.751788Z",
     "iopub.status.idle": "2022-04-16T06:02:11.782950Z",
     "shell.execute_reply": "2022-04-16T06:02:11.782085Z"
    }
   },
   "outputs": [],
   "source": [
    "bottom_right = 3"
   ]
  },
  {
   "cell_type": "code",
   "execution_count": 430,
   "id": "ac720f54",
   "metadata": {
    "deletable": false,
    "editable": false
   },
   "outputs": [
    {
     "data": {
      "text/html": [
       "<p><strong><pre style='display: inline;'>q3_1_2</pre></strong> passed! 🙌</p>"
      ],
      "text/plain": [
       "q3_1_2 results: All test cases passed!"
      ]
     },
     "execution_count": 430,
     "metadata": {},
     "output_type": "execute_result"
    }
   ],
   "source": [
    "grader.check(\"q3_1_2\")"
   ]
  },
  {
   "attachments": {},
   "cell_type": "markdown",
   "id": "9d23a521",
   "metadata": {
    "deletable": false,
    "editable": false
   },
   "source": [
    "**Question 3.1.3**\n",
    "\n",
    "What properties do words in the top right corner have? Your answer should be a single integer from 1 to 5, corresponding to the correct statement from the choices above.\n",
    "\n",
    "\n",
    "<!--\n",
    "BEGIN QUESTION\n",
    "name: q3_1_3\n",
    "points:\n",
    " - 0\n",
    " - 1\n",
    "-->"
   ]
  },
  {
   "cell_type": "code",
   "execution_count": 431,
   "id": "ee28201e",
   "metadata": {
    "deletable": false,
    "execution": {
     "iopub.execute_input": "2022-04-16T06:02:11.801221Z",
     "iopub.status.busy": "2022-04-16T06:02:11.800743Z",
     "iopub.status.idle": "2022-04-16T06:02:11.804237Z",
     "shell.execute_reply": "2022-04-16T06:02:11.803486Z"
    }
   },
   "outputs": [],
   "source": [
    "top_right = 1"
   ]
  },
  {
   "cell_type": "code",
   "execution_count": 432,
   "id": "3a545251",
   "metadata": {
    "deletable": false,
    "editable": false
   },
   "outputs": [
    {
     "data": {
      "text/html": [
       "<p><strong><pre style='display: inline;'>q3_1_3</pre></strong> passed! 🍀</p>"
      ],
      "text/plain": [
       "q3_1_3 results: All test cases passed!"
      ]
     },
     "execution_count": 432,
     "metadata": {},
     "output_type": "execute_result"
    }
   ],
   "source": [
    "grader.check(\"q3_1_3\")"
   ]
  },
  {
   "attachments": {},
   "cell_type": "markdown",
   "id": "d0491675",
   "metadata": {
    "deletable": false,
    "editable": false
   },
   "source": [
    "**Question 3.1.4**\n",
    "\n",
    "What properties do words in the top left corner have? Your answer should be a single integer from 1 to 5, corresponding to the correct statement from the choices above.\n",
    "\n",
    "\n",
    "<!--\n",
    "BEGIN QUESTION\n",
    "name: q3_1_4\n",
    "points:\n",
    " - 0\n",
    " - 1\n",
    "-->"
   ]
  },
  {
   "cell_type": "code",
   "execution_count": 433,
   "id": "aaf23e5f",
   "metadata": {
    "deletable": false,
    "execution": {
     "iopub.execute_input": "2022-04-16T06:02:11.822238Z",
     "iopub.status.busy": "2022-04-16T06:02:11.822031Z",
     "iopub.status.idle": "2022-04-16T06:02:11.825757Z",
     "shell.execute_reply": "2022-04-16T06:02:11.824971Z"
    }
   },
   "outputs": [],
   "source": [
    "top_left = 2"
   ]
  },
  {
   "cell_type": "code",
   "execution_count": 434,
   "id": "68522fdc",
   "metadata": {
    "deletable": false,
    "editable": false
   },
   "outputs": [
    {
     "data": {
      "text/html": [
       "<p><strong><pre style='display: inline;'>q3_1_4</pre></strong> passed! 🙌</p>"
      ],
      "text/plain": [
       "q3_1_4 results: All test cases passed!"
      ]
     },
     "execution_count": 434,
     "metadata": {},
     "output_type": "execute_result"
    }
   ],
   "source": [
    "grader.check(\"q3_1_4\")"
   ]
  },
  {
   "attachments": {},
   "cell_type": "markdown",
   "id": "97eb4d9d",
   "metadata": {
    "deletable": false,
    "editable": false
   },
   "source": [
    "**Question 3.1.5**\n",
    "\n",
    "If we see a movie with a lot of words that are common for comedy movies but uncommon for thriller movies, what would be a reasonable guess about the genre of the movie? Assign `movie_genre` to the integer corresponding to your answer:\n",
    "1. if it is a thriller movie.\n",
    "2. if it is a comedy movie.\n",
    "\n",
    "<!--\n",
    "BEGIN QUESTION\n",
    "name: q3_1_5\n",
    "points:\n",
    " - 0\n",
    " - 1\n",
    "-->"
   ]
  },
  {
   "cell_type": "code",
   "execution_count": 435,
   "id": "80b457ba",
   "metadata": {
    "deletable": false,
    "execution": {
     "iopub.execute_input": "2022-04-16T06:02:11.846566Z",
     "iopub.status.busy": "2022-04-16T06:02:11.845860Z",
     "iopub.status.idle": "2022-04-16T06:02:11.882544Z",
     "shell.execute_reply": "2022-04-16T06:02:11.881442Z"
    }
   },
   "outputs": [],
   "source": [
    "movie_genre_guess = 2"
   ]
  },
  {
   "cell_type": "code",
   "execution_count": 436,
   "id": "99b1df47",
   "metadata": {
    "deletable": false,
    "editable": false
   },
   "outputs": [
    {
     "data": {
      "text/html": [
       "<p><strong><pre style='display: inline;'>q3_1_5</pre></strong> passed! ✨</p>"
      ],
      "text/plain": [
       "q3_1_5 results: All test cases passed!"
      ]
     },
     "execution_count": 436,
     "metadata": {},
     "output_type": "execute_result"
    }
   ],
   "source": [
    "grader.check(\"q3_1_5\")"
   ]
  },
  {
   "attachments": {},
   "cell_type": "markdown",
   "id": "93a305bf",
   "metadata": {
    "deletable": false,
    "editable": false
   },
   "source": [
    "**Question 3.1.6**\n",
    "\n",
    "Using the plot above, make an list of at least 10 common words that you think might let you **distinguish** between comedy and thriller movies. Make sure to choose words that are **frequent enough** that every movie contains at least one of them. Don't just choose the most frequent words though--you can do much better.\n",
    "\n",
    "<!--\n",
    "BEGIN QUESTION\n",
    "name: q3_1_6\n",
    "points:\n",
    " - 0\n",
    " - 0\n",
    " - 0\n",
    " - 1.5\n",
    " - 1.5\n",
    " \n",
    "-->"
   ]
  },
  {
   "cell_type": "code",
   "execution_count": 437,
   "id": "94da845b",
   "metadata": {
    "deletable": false,
    "execution": {
     "iopub.execute_input": "2022-04-16T06:02:11.902115Z",
     "iopub.status.busy": "2022-04-16T06:02:11.901512Z",
     "iopub.status.idle": "2022-04-16T06:02:11.916648Z",
     "shell.execute_reply": "2022-04-16T06:02:11.915701Z"
    }
   },
   "outputs": [],
   "source": [
    "# Set my_features to an list (strings that are column labels) e.g. 'i', 'the', 'to', 'a', 'it', 'and', 'that', 'of', 'your', 'what', 'in', 'me', 'is', 'do', 'thi', 'dont', 'he', 'for', 'know'\n",
    "\n",
    "my_features = ['oh', 'well', 'kill', 'uh', 'marri', 'ship', 'great', 'dead', 'and', 'he']\n",
    "\n",
    "# Select the above features from both the train and test sets\n",
    "train_my_features = train_movies.loc[:, my_features]\n",
    "test_my_features = test_movies.loc[:, my_features]\n"
   ]
  },
  {
   "cell_type": "code",
   "execution_count": 438,
   "id": "19dc9013",
   "metadata": {
    "deletable": false,
    "editable": false
   },
   "outputs": [
    {
     "data": {
      "text/html": [
       "<p><strong><pre style='display: inline;'>q3_1_6</pre></strong> passed! 🙌</p>"
      ],
      "text/plain": [
       "q3_1_6 results: All test cases passed!"
      ]
     },
     "execution_count": 438,
     "metadata": {},
     "output_type": "execute_result"
    }
   ],
   "source": [
    "grader.check(\"q3_1_6\")"
   ]
  },
  {
   "cell_type": "markdown",
   "id": "8170d672",
   "metadata": {},
   "source": [
    "This test makes sure that you have chosen words such that at least one appears in each movie. If you can't find words that satisfy this test just through intuition, try writing code to print out the titles of movies that do not contain any words from your list, then look at the words they do contain."
   ]
  },
  {
   "cell_type": "markdown",
   "id": "57a20768",
   "metadata": {},
   "source": [
    "Next, let's classify the first movie from our test set using these features.  You can examine the movie by running the cells below. Do you think it will be classified correctly?"
   ]
  },
  {
   "cell_type": "code",
   "execution_count": 439,
   "id": "bafc0bfc",
   "metadata": {
    "execution": {
     "iopub.execute_input": "2022-04-16T06:02:12.012876Z",
     "iopub.status.busy": "2022-04-16T06:02:12.012647Z",
     "iopub.status.idle": "2022-04-16T06:02:12.038763Z",
     "shell.execute_reply": "2022-04-16T06:02:12.037918Z"
    }
   },
   "outputs": [
    {
     "name": "stdout",
     "output_type": "stream",
     "text": [
      "Movie:\n"
     ]
    },
    {
     "data": {
      "text/plain": [
       "Title    ghostbusters ii\n",
       "Genre             comedy\n",
       "Name: 283, dtype: object"
      ]
     },
     "execution_count": 439,
     "metadata": {},
     "output_type": "execute_result"
    }
   ],
   "source": [
    "print(\"Movie:\")\n",
    "test_movies[['Title', 'Genre']].iloc[0]"
   ]
  },
  {
   "cell_type": "code",
   "execution_count": 440,
   "id": "54395691",
   "metadata": {},
   "outputs": [
    {
     "name": "stdout",
     "output_type": "stream",
     "text": [
      "Features:\n"
     ]
    },
    {
     "data": {
      "text/plain": [
       "oh       0.003132\n",
       "well     0.003627\n",
       "kill     0.000330\n",
       "uh       0.000165\n",
       "marri    0.000165\n",
       "ship     0.000165\n",
       "great    0.000659\n",
       "dead     0.000165\n",
       "and      0.019288\n",
       "he       0.006264\n",
       "Name: 283, dtype: float64"
      ]
     },
     "execution_count": 440,
     "metadata": {},
     "output_type": "execute_result"
    }
   ],
   "source": [
    "\n",
    "print(\"Features:\")\n",
    "test_my_features.iloc[0]"
   ]
  },
  {
   "cell_type": "markdown",
   "id": "cc4d9d17",
   "metadata": {},
   "source": [
    "As before, we want to look for the movies in the training set that are most like our test movie.  We will calculate the Euclidean distances from the test movie (using `my_features`) to all movies in the training set.  You could do this with a `for` loop, but to make it computationally faster, we have provided a function, `fast_distances`, to do this for you.  Read its documentation to make sure you understand what it does.  (You don't need to understand the code in its body unless you want to.)"
   ]
  },
  {
   "cell_type": "code",
   "execution_count": 441,
   "id": "093918a0",
   "metadata": {},
   "outputs": [],
   "source": [
    "def fast_distances(test_row, train_df):\n",
    "    assert train_df.shape[1] < 50, \"Make sure you're not using all the features of the movies table.\"\n",
    "    assert type(test_row) != pd.DataFrame, \"Make sure you are passing in a row object to fast_distances.\"\n",
    "    assert len(test_row) == train_df.shape[1], \"Make sure the length of test row is the same as the number of columns in train_table.\"\n",
    "    counts_matrix = train_df.values\n",
    "    diff = np.tile(np.array(test_row), [counts_matrix.shape[0], 1]) - counts_matrix\n",
    "    np.random.seed(0) # For tie breaking purposes\n",
    "    distances = np.squeeze(np.asarray(np.sqrt(np.square(diff).sum(1))))\n",
    "    eps = np.random.uniform(size=distances.shape)*1e-10 #Noise for tie break\n",
    "    distances = distances + eps\n",
    "    return distances"
   ]
  },
  {
   "attachments": {},
   "cell_type": "markdown",
   "id": "e3344ac2",
   "metadata": {
    "deletable": false,
    "editable": false
   },
   "source": [
    "**Question 3.1.8**\n",
    "\n",
    "Use the `fast_distances` function provided above to compute the distance from the first movie in your test set to all the movies in your training set, **using your set of features**. Make a new dataframe called `genre_and_distances` with one row for each movie in the training set and two columns:\n",
    "* The `\"Genre\"` of the training movie\n",
    "* The `\"Distance\"` from the first movie in the test set \n",
    "\n",
    "Ensure that `genre_and_distances` is **sorted in ascending order by distance to the first test movie**.\n",
    "\n",
    "*Hint:* Think about how you can use the variables you defined in 3.1.6.\n",
    "\n",
    "<!--\n",
    "BEGIN QUESTION\n",
    "name: q3_1_8\n",
    "points:\n",
    " - 0\n",
    " - 1\n",
    " - 2\n",
    "-->"
   ]
  },
  {
   "cell_type": "code",
   "execution_count": 442,
   "id": "2ab662c5",
   "metadata": {
    "execution": {
     "iopub.execute_input": "2022-04-16T06:02:12.056777Z",
     "iopub.status.busy": "2022-04-16T06:02:12.056576Z",
     "iopub.status.idle": "2022-04-16T06:02:12.087221Z",
     "shell.execute_reply": "2022-04-16T06:02:12.086389Z"
    },
    "for_assignment_type": "solution"
   },
   "outputs": [
    {
     "name": "stdout",
     "output_type": "stream",
     "text": [
      "        Genre  Distance\n",
      "54     comedy  0.001939\n",
      "186    comedy  0.002363\n",
      "56   thriller  0.002556\n",
      "282    comedy  0.002560\n"
     ]
    }
   ],
   "source": [
    "distances = fast_distances(test_my_features.iloc[0], train_my_features)\n",
    "\n",
    "genre_and_distances = pd.DataFrame({'Genre': train_movies[\"Genre\"], 'Distance': distances})\n",
    "\n",
    "genre_and_distances = genre_and_distances.sort_values('Distance')\n",
    "\n",
    "print(genre_and_distances.iloc[0:4])\n"
   ]
  },
  {
   "cell_type": "code",
   "execution_count": 443,
   "id": "ab358c86",
   "metadata": {
    "deletable": false,
    "editable": false
   },
   "outputs": [
    {
     "data": {
      "text/html": [
       "<p><strong><pre style='display: inline;'>q3_1_8</pre></strong> passed! 💯</p>"
      ],
      "text/plain": [
       "q3_1_8 results: All test cases passed!"
      ]
     },
     "execution_count": 443,
     "metadata": {},
     "output_type": "execute_result"
    }
   ],
   "source": [
    "grader.check(\"q3_1_8\")"
   ]
  },
  {
   "attachments": {},
   "cell_type": "markdown",
   "id": "e4b502fd",
   "metadata": {
    "deletable": false,
    "editable": false
   },
   "source": [
    "**Question 3.1.9**\n",
    "\n",
    "Now compute the 7-nearest neighbors classification of the first movie in the test set.  That is, decide on its genre by finding the most common genre among its 7 nearest neighbors in the training set, according to the distances you've calculated.  Then check whether your classifier chose the right genre.  (Depending on the features you chose, your classifier might not get this movie right, and that's okay.)\n",
    "\n",
    "*Hint:* You should use the `most_common` function that was defined earlier and pass first 7 rows of data frame `genre_and_distances`.\n",
    "\n",
    "<!--\n",
    "BEGIN QUESTION\n",
    "name: q3_1_9\n",
    "points:\n",
    " - 1\n",
    " - 1\n",
    "-->"
   ]
  },
  {
   "cell_type": "code",
   "execution_count": 444,
   "id": "b71b7ff7",
   "metadata": {
    "deletable": false,
    "execution": {
     "iopub.execute_input": "2022-04-16T06:02:12.133606Z",
     "iopub.status.busy": "2022-04-16T06:02:12.132924Z",
     "iopub.status.idle": "2022-04-16T06:02:12.140565Z",
     "shell.execute_reply": "2022-04-16T06:02:12.139812Z"
    }
   },
   "outputs": [
    {
     "name": "stdout",
     "output_type": "stream",
     "text": [
      "The assigned genre, comedy, was correct.\n"
     ]
    }
   ],
   "source": [
    "# Set my_assigned_genre to the most common genre among these.\n",
    "my_assigned_genre = most_common(genre_and_distances[:7],'Genre')\n",
    "\n",
    "# Set my_assigned_genre_was_correct to True if my_assigned_genre\n",
    "# matches the actual genre of the first movie in the test set, False otherwise.\n",
    "my_assigned_genre_was_correct = test_movies.iloc[0]['Genre'] == my_assigned_genre\n",
    "\n",
    "print(\"The assigned genre, {}, was{}correct.\".format(my_assigned_genre, \" \" if my_assigned_genre_was_correct else \" not \"))"
   ]
  },
  {
   "cell_type": "code",
   "execution_count": 445,
   "id": "841da5a8",
   "metadata": {
    "deletable": false,
    "editable": false
   },
   "outputs": [
    {
     "data": {
      "text/html": [
       "<p><strong><pre style='display: inline;'>q3_1_9</pre></strong> passed! 🚀</p>"
      ],
      "text/plain": [
       "q3_1_9 results: All test cases passed!"
      ]
     },
     "execution_count": 445,
     "metadata": {},
     "output_type": "execute_result"
    }
   ],
   "source": [
    "grader.check(\"q3_1_9\")"
   ]
  },
  {
   "attachments": {},
   "cell_type": "markdown",
   "id": "86a9e02e",
   "metadata": {},
   "source": [
    "#### 3.2. A classifier function\n",
    "\n",
    "Now we can write a single function that encapsulates the whole process of classification."
   ]
  },
  {
   "attachments": {},
   "cell_type": "markdown",
   "id": "7d5ce49d",
   "metadata": {
    "deletable": false,
    "editable": false
   },
   "source": [
    "**Question 3.2.1**\n",
    "\n",
    "Write a function called `classify`.  It should take the following four arguments:\n",
    "* A row of features for a movie to classify (e.g., `test_my_features.iloc[0]`).\n",
    "* A dataframe with a column for each feature (e.g., `train_my_features`).\n",
    "* An array of classes (e.g. the labels \"comedy\" or \"thriller\") that has as many items as the previous table has rows, and in the same order. *Hint:* What are the labels of each row in the training set? \n",
    "* `k`, the number of neighbors to use in classification.\n",
    "\n",
    "It should return the class label that a `k`-nearest neighbor classifier picks for the given row of features (the string `'comedy'` or the string `'thriller'`). \n",
    "\n",
    "<!--\n",
    "BEGIN QUESTION\n",
    "name: q3_2_1\n",
    "points:\n",
    " - 1.5\n",
    " - 1.5\n",
    "-->"
   ]
  },
  {
   "cell_type": "code",
   "execution_count": 446,
   "id": "8683d85f",
   "metadata": {
    "deletable": false,
    "execution": {
     "iopub.execute_input": "2022-04-16T06:02:12.193581Z",
     "iopub.status.busy": "2022-04-16T06:02:12.193359Z",
     "iopub.status.idle": "2022-04-16T06:02:12.197839Z",
     "shell.execute_reply": "2022-04-16T06:02:12.197122Z"
    }
   },
   "outputs": [],
   "source": [
    "def classify(test_row, train_features, train_labels, k):\n",
    "    \"\"\"Return the most common class among k nearest neigbors to test_row.\"\"\"\n",
    "    distances = fast_distances(test_row, train_features)\n",
    "    genre_and_distances = pd.DataFrame({\"Genre\": train_labels, \"Distance\": distances})\n",
    "    genre_and_distances = genre_and_distances.sort_values('Distance')\n",
    "    return most_common(genre_and_distances.iloc[:k],'Genre')\n"
   ]
  },
  {
   "cell_type": "code",
   "execution_count": 447,
   "id": "1b2c8d2b",
   "metadata": {
    "deletable": false,
    "editable": false
   },
   "outputs": [
    {
     "data": {
      "text/html": [
       "<p><strong><pre style='display: inline;'>q3_2_1</pre></strong> passed! 🍀</p>"
      ],
      "text/plain": [
       "q3_2_1 results: All test cases passed!"
      ]
     },
     "execution_count": 447,
     "metadata": {},
     "output_type": "execute_result"
    }
   ],
   "source": [
    "grader.check(\"q3_2_1\")"
   ]
  },
  {
   "attachments": {},
   "cell_type": "markdown",
   "id": "1b99e2bd",
   "metadata": {
    "deletable": false,
    "editable": false
   },
   "source": [
    "**Question 3.2.2**\n",
    "\n",
    "Assign `godzilla_genre` to the genre predicted by your classifier for the movie \"godzilla\" in the test set, using **15 neighbors** and using your 10 features. \n",
    "\n",
    "*Hint:* The `row_for_title` function will not work here.\n",
    "\n",
    "<!--\n",
    "BEGIN QUESTION\n",
    "name: q3_2_2\n",
    "points:\n",
    " - 3\n",
    "-->"
   ]
  },
  {
   "cell_type": "code",
   "execution_count": 479,
   "id": "6ec80712",
   "metadata": {
    "deletable": false,
    "execution": {
     "iopub.execute_input": "2022-04-16T06:02:12.251744Z",
     "iopub.status.busy": "2022-04-16T06:02:12.251221Z",
     "iopub.status.idle": "2022-04-16T06:02:12.323447Z",
     "shell.execute_reply": "2022-04-16T06:02:12.322799Z"
    }
   },
   "outputs": [
    {
     "data": {
      "text/plain": [
       "'thriller'"
      ]
     },
     "execution_count": 479,
     "metadata": {},
     "output_type": "execute_result"
    }
   ],
   "source": [
    "# The staff solution first defined a row called godzilla_features.\n",
    "godzilla_features_df = test_movies.loc[test_movies['Title'] == 'godzilla', my_features]\n",
    "godzilla_features_series = godzilla_features_df.iloc[0]\n",
    "godzilla_genre = classify(godzilla_features_series, train_my_features, train_movies[\"Genre\"], 15)\n",
    "godzilla_genre"
   ]
  },
  {
   "cell_type": "code",
   "execution_count": 449,
   "id": "b745d65c",
   "metadata": {
    "deletable": false,
    "editable": false
   },
   "outputs": [
    {
     "data": {
      "text/html": [
       "<p><strong><pre style='display: inline;'>q3_2_2</pre></strong> passed! 🌈</p>"
      ],
      "text/plain": [
       "q3_2_2 results: All test cases passed!"
      ]
     },
     "execution_count": 449,
     "metadata": {},
     "output_type": "execute_result"
    }
   ],
   "source": [
    "grader.check(\"q3_2_2\")"
   ]
  },
  {
   "cell_type": "markdown",
   "id": "a4896619",
   "metadata": {},
   "source": [
    "Finally, when we evaluate our classifier, it will be useful to have a classification function that is specialized to use a fixed training set and a fixed value of `k`."
   ]
  },
  {
   "attachments": {},
   "cell_type": "markdown",
   "id": "6bd10645",
   "metadata": {
    "deletable": false,
    "editable": false
   },
   "source": [
    "**Question 3.2.3**\n",
    "\n",
    "Create a classification function that takes as its argument a row containing your 10 features and classifies that row using the 10-nearest neighbors algorithm with `train_my_features` as its training set. \n",
    "\n",
    "<!--\n",
    "BEGIN QUESTION\n",
    "name: q3_2_3\n",
    "points:\n",
    " - 3\n",
    "-->"
   ]
  },
  {
   "cell_type": "code",
   "execution_count": 477,
   "id": "8869b147",
   "metadata": {
    "deletable": false,
    "execution": {
     "iopub.execute_input": "2022-04-16T06:02:12.340963Z",
     "iopub.status.busy": "2022-04-16T06:02:12.340487Z",
     "iopub.status.idle": "2022-04-16T06:02:12.348207Z",
     "shell.execute_reply": "2022-04-16T06:02:12.347536Z"
    }
   },
   "outputs": [
    {
     "data": {
      "text/plain": [
       "'comedy'"
      ]
     },
     "execution_count": 477,
     "metadata": {},
     "output_type": "execute_result"
    }
   ],
   "source": [
    "def classify_feature_row(row):\n",
    "    return classify(row, train_my_features,train_movies['Genre'] , 10)\n",
    "\n",
    "# When you're done, this should produce 'thriller' or 'comedy'.\n",
    "classify_feature_row(test_my_features.iloc[0])"
   ]
  },
  {
   "cell_type": "code",
   "execution_count": 451,
   "id": "504e6b12",
   "metadata": {
    "deletable": false,
    "editable": false
   },
   "outputs": [
    {
     "data": {
      "text/html": [
       "<p><strong><pre style='display: inline;'>q3_2_3</pre></strong> passed! ✨</p>"
      ],
      "text/plain": [
       "q3_2_3 results: All test cases passed!"
      ]
     },
     "execution_count": 451,
     "metadata": {},
     "output_type": "execute_result"
    }
   ],
   "source": [
    "grader.check(\"q3_2_3\")"
   ]
  },
  {
   "attachments": {},
   "cell_type": "markdown",
   "id": "6be6239f",
   "metadata": {},
   "source": [
    "#### 3.3. Evaluating your classifier"
   ]
  },
  {
   "attachments": {},
   "cell_type": "markdown",
   "id": "9a4e131c",
   "metadata": {
    "deletable": false,
    "editable": false
   },
   "source": [
    "Now that it's easy to use the classifier, let's see how accurate it is on the whole test set.\n",
    "\n",
    "**Question 3.3.1**\n",
    "\n",
    "Use `classify_feature_row` and `apply` to classify every movie in the test set.  Assign these guesses as an array to `test_guesses`.  Then, compute the proportion of correct classifications.\n",
    "\n",
    "*Hint*: Which dataset do you want to apply this function to?\n",
    "\n",
    "<!--\n",
    "BEGIN QUESTION\n",
    "name: q3_3_1\n",
    "points:\n",
    " - 0\n",
    " - 3\n",
    "-->"
   ]
  },
  {
   "cell_type": "code",
   "execution_count": 478,
   "id": "6e408d10",
   "metadata": {
    "deletable": false,
    "execution": {
     "iopub.execute_input": "2022-04-16T06:02:12.412664Z",
     "iopub.status.busy": "2022-04-16T06:02:12.412028Z",
     "iopub.status.idle": "2022-04-16T06:02:12.495073Z",
     "shell.execute_reply": "2022-04-16T06:02:12.494218Z"
    }
   },
   "outputs": [
    {
     "data": {
      "text/plain": [
       "0.72"
      ]
     },
     "execution_count": 478,
     "metadata": {},
     "output_type": "execute_result"
    }
   ],
   "source": [
    "test_guesses = test_my_features.apply(classify_feature_row, axis=1).values\n",
    "\n",
    "proportion_correct = np.mean(test_guesses == test_movies['Genre'].values)\n",
    "proportion_correct\n"
   ]
  },
  {
   "cell_type": "code",
   "execution_count": 453,
   "id": "5383901c",
   "metadata": {
    "deletable": false,
    "editable": false
   },
   "outputs": [
    {
     "data": {
      "text/html": [
       "<p><strong><pre style='display: inline;'>q3_3_1</pre></strong> passed! 🌟</p>"
      ],
      "text/plain": [
       "q3_3_1 results: All test cases passed!"
      ]
     },
     "execution_count": 453,
     "metadata": {},
     "output_type": "execute_result"
    }
   ],
   "source": [
    "grader.check(\"q3_3_1\")"
   ]
  },
  {
   "attachments": {},
   "cell_type": "markdown",
   "id": "2a7508eb",
   "metadata": {
    "deletable": false,
    "editable": false
   },
   "source": [
    "**Question 3.3.2** \n",
    "\n",
    "An important part of evaluating your classifiers is figuring out where they make mistakes. Assign the name `test_movie_correctness` to a table with three columns, `'Title'`, `'Genre'`, and `'Was correct'`. \n",
    "\n",
    "- The `'Genre'` column should contain the original genres, not the ones you predicted. \n",
    "- The `'Was correct'` column should contain `True` or `False` depending on whether or not the movie was classified correctly.\n",
    "\n",
    "<!--\n",
    "BEGIN QUESTION\n",
    "name: q3_3_2\n",
    "points:\n",
    " - 2\n",
    "-->"
   ]
  },
  {
   "cell_type": "code",
   "execution_count": 454,
   "id": "adb93768",
   "metadata": {
    "deletable": false,
    "execution": {
     "iopub.execute_input": "2022-04-16T06:02:12.514816Z",
     "iopub.status.busy": "2022-04-16T06:02:12.514626Z",
     "iopub.status.idle": "2022-04-16T06:02:13.858922Z",
     "shell.execute_reply": "2022-04-16T06:02:13.858246Z"
    },
    "for_assignment_type": "student",
    "manual_problem_id": "test_movie_correctness"
   },
   "outputs": [
    {
     "name": "stdout",
     "output_type": "stream",
     "text": [
      "                              Title     Genre  Was correct\n",
      "283                 ghostbusters ii    comedy         True\n",
      "284             intolerable cruelty    comedy        False\n",
      "285                          psycho  thriller         True\n",
      "286  book of shadows: blair witch 2  thriller         True\n",
      "287                     the getaway  thriller         True\n"
     ]
    }
   ],
   "source": [
    "# Feel free to use multiple lines of code\n",
    "# but make sure to assign test_movie_correctness to the proper table!\n",
    "was_correct = test_guesses == test_movies['Genre'].values\n",
    "test_movie_correctness = pd.DataFrame({'Title': test_movies['Title'], 'Genre': test_movies['Genre'], 'Was correct': was_correct})\n",
    "print(test_movie_correctness.head(5))"
   ]
  },
  {
   "cell_type": "code",
   "execution_count": 455,
   "id": "b52b85d4",
   "metadata": {
    "deletable": false,
    "editable": false
   },
   "outputs": [
    {
     "data": {
      "text/html": [
       "<p><strong><pre style='display: inline;'>q3_3_2</pre></strong> passed! 🚀</p>"
      ],
      "text/plain": [
       "q3_3_2 results: All test cases passed!"
      ]
     },
     "execution_count": 455,
     "metadata": {},
     "output_type": "execute_result"
    }
   ],
   "source": [
    "grader.check(\"q3_3_2\")"
   ]
  },
  {
   "attachments": {},
   "cell_type": "markdown",
   "id": "07cb5edc",
   "metadata": {
    "deletable": false,
    "editable": false
   },
   "source": [
    "<!-- BEGIN QUESTION -->\n",
    "\n",
    "**Question 3.3.3 (Manually Graded)** \n",
    "\n",
    "Do you see a pattern in the types of movies your classifier misclassifies? In two sentences or less, describe any patterns you see in the results or any other interesting findings from the table above. If you need some help, try looking up the movies that your classifier got wrong on Wikipedia. \n",
    "\n",
    "<!--\n",
    "BEGIN QUESTION\n",
    "name: q3_3_3\n",
    "manual: true\n",
    "-->"
   ]
  },
  {
   "cell_type": "markdown",
   "id": "decd90ad",
   "metadata": {},
   "source": [
    "the misclassified movies often have 2 genres.\n",
    "this can cause problems as the second genre has words not typical to the main genre."
   ]
  },
  {
   "cell_type": "markdown",
   "id": "02d5d11b",
   "metadata": {},
   "source": [
    "<!-- END QUESTION -->\n",
    "\n",
    "\n",
    "\n",
    "At this point, you've gone through one cycle of classifier design.  Let's summarize the steps:\n",
    "1. From available data, select test and training sets.\n",
    "2. Choose an algorithm you're going to use for k-NN classification.\n",
    "3. Identify some features.\n",
    "4. Define a classifier function using your features and the training set.\n",
    "5. Evaluate its performance (the proportion of correct classifications) on the test set."
   ]
  },
  {
   "attachments": {},
   "cell_type": "markdown",
   "id": "7a0f4ba4",
   "metadata": {},
   "source": [
    "## Working with all features (Using Sklearn)"
   ]
  },
  {
   "attachments": {},
   "cell_type": "markdown",
   "id": "36685aa6",
   "metadata": {},
   "source": [
    "Let's deep dive to fit the classficiation knn and random forest model on all predictors of the movies data set. "
   ]
  },
  {
   "cell_type": "code",
   "execution_count": 456,
   "id": "548aadc2",
   "metadata": {},
   "outputs": [],
   "source": [
    "X = movies.drop(columns=movies.columns[np.arange(5)], axis=1)\n",
    "y = movies[\"Genre\"]\n"
   ]
  },
  {
   "attachments": {},
   "cell_type": "markdown",
   "id": "981ba025",
   "metadata": {
    "deletable": false,
    "editable": false
   },
   "source": [
    "**Question 4.1.1** \n",
    "\n",
    "Complete the following Python class (named `KNN`) as per the docstrings mentioned to fit, predict, and evaluate the model's score. The `fit()` must have an option to perform hyperparameter tuning. The optimal values should be used such that the model accuracy must be more than `80%`. \n",
    "<!--\n",
    "BEGIN QUESTION\n",
    "name: q4_1_1\n",
    "points:\n",
    " - 10\n",
    "-->"
   ]
  },
  {
   "cell_type": "code",
   "execution_count": 457,
   "id": "a7d819e7",
   "metadata": {},
   "outputs": [],
   "source": [
    "class KNN:\n",
    "    def __init__(self, X, y, n_neighbors=5, test_size=0.2, random_state=42):\n",
    "        \"\"\"\n",
    "        Initialize the KNN classifier.\n",
    "\n",
    "        Parameters:\n",
    "        -----------\n",
    "            X (pandas.DataFrame): The feature matrix of shape (n_samples, n_features).\n",
    "            y (pandas.Series): The target vector of shape (n_samples,).\n",
    "            n_neighbors (int, optional): The number of nearest neighbors to use in classification. Defaults to 5.\n",
    "            test_size (float, optional): The proportion of samples to use for testing. Defaults to 0.2.\n",
    "            random_state (int, optional): The random state to use for splitting the data. Defaults to 42.\n",
    "        \"\"\"\n",
    "        self.X_train, self.X_test, self.y_train, self.y_test = train_test_split(X, y, test_size=test_size, random_state=random_state)\n",
    "        self.n_neighbors = n_neighbors\n",
    "        self.test_size = test_size\n",
    "        self.random_state = random_state\n",
    "        self.model = None\n",
    "        self.best_params = None\n",
    "        self.best_score = None\n",
    "        return\n",
    "        \n",
    "    def fit(self, tune_fit=\"no\"):\n",
    "        \"\"\"\n",
    "        Fit the KNN model to the training data.\n",
    "\n",
    "        Parameters:\n",
    "        -----------\n",
    "            tune_fit (str, optional): Whether to perform hyperparameter tuning. If \"yes\", performs a grid search to find\n",
    "                the best hyperparameters. Defaults to \"no\".\n",
    "\n",
    "        Raises:\n",
    "        -----------\n",
    "            ValueError: If `tune_fit` is not \"yes\" or \"no\".\n",
    "\n",
    "        Returns:\n",
    "        -----------\n",
    "            None\n",
    "        \"\"\"\n",
    "        if tune_fit==\"yes\": \n",
    "            param_grid = {\n",
    "                \"n_neighbors\": range(1,50)\n",
    "            }\n",
    "            grid_search = GridSearchCV(KNeighborsClassifier(), param_grid=param_grid, cv=10)\n",
    "            grid_search.fit(self.X_train, self.y_train)\n",
    "            self.best_params = grid_search.best_params_\n",
    "            self.model = grid_search.best_estimator_\n",
    "            self.best_score = grid_search.best_score_\n",
    "        elif tune_fit==\"no\":\n",
    "            self.model = KNeighborsClassifier(n_neighbors=self.n_neighbors)\n",
    "            self.model.fit(self.X_train, self.y_train)\n",
    "        else:\n",
    "            raise ValueError(\"Invalid value for `tune_fit`. Must be either 'yes' or 'no'.\")\n",
    "        \n",
    "    def predict(self):\n",
    "        \"\"\"\n",
    "        Predict the target values for the test data.\n",
    "\n",
    "        Parameters:\n",
    "        -----------\n",
    "        None\n",
    "\n",
    "        Returns:\n",
    "        -----------\n",
    "            numpy.ndarray: The predicted target values of shape (n_samples,)\n",
    "        \"\"\"\n",
    "        return self.model.predict(self.X_test)\n",
    "    \n",
    "    def score(self):\n",
    "        \"\"\"\n",
    "        Calculate the accuracy score and classification report for the KNN model.\n",
    "\n",
    "        Parameters:\n",
    "        -----------\n",
    "        None\n",
    "\n",
    "        Returns:\n",
    "        -----------\n",
    "        accuracy score: The ratio of the correctly predicted observations to the total observations.\n",
    "        \n",
    "        classification report: A text report of the main classification metrics such as precision, recall, f1-score and support for each class.\n",
    "        \"\"\"\n",
    "        y_pred = self.predict()\n",
    "        accuracy = accuracy_score(self.y_test, y_pred)\n",
    "        report = classification_report(self.y_test, y_pred)\n",
    "        return accuracy, report\n"
   ]
  },
  {
   "cell_type": "code",
   "execution_count": 458,
   "id": "30fbd651",
   "metadata": {
    "deletable": false,
    "editable": false
   },
   "outputs": [
    {
     "data": {
      "text/html": [
       "<p><strong><pre style='display: inline;'>q4_1_1</pre></strong> passed! 🌈</p>"
      ],
      "text/plain": [
       "q4_1_1 results: All test cases passed!"
      ]
     },
     "execution_count": 458,
     "metadata": {},
     "output_type": "execute_result"
    }
   ],
   "source": [
    "grader.check(\"q4_1_1\")"
   ]
  },
  {
   "attachments": {},
   "cell_type": "markdown",
   "id": "ca53d2e4",
   "metadata": {
    "deletable": false,
    "editable": false
   },
   "source": [
    "**Question 4.1.2** \n",
    "\n",
    "Use the `KNN` class to fit, predict and report the accuracy, precision and recall of the model. \n",
    "<!--\n",
    "BEGIN QUESTION\n",
    "name: q4_1_2\n",
    "points:\n",
    " - 0\n",
    " - 3\n",
    " - 0\n",
    "-->"
   ]
  },
  {
   "cell_type": "code",
   "execution_count": 459,
   "id": "a2769a31",
   "metadata": {},
   "outputs": [
    {
     "name": "stdout",
     "output_type": "stream",
     "text": [
      "The accuracy achieved by knn model: 0.835820895522388\n",
      "############################################################\n",
      "The classification report of knn model: \n",
      "               precision    recall  f1-score   support\n",
      "\n",
      "      comedy       0.67      0.90      0.77        20\n",
      "    thriller       0.95      0.81      0.87        47\n",
      "\n",
      "    accuracy                           0.84        67\n",
      "   macro avg       0.81      0.85      0.82        67\n",
      "weighted avg       0.87      0.84      0.84        67\n",
      "\n"
     ]
    }
   ],
   "source": [
    "fit_knn = KNN(X, y)\n",
    "fit_knn.fit(tune_fit=\"yes\")\n",
    "pred_knn = fit_knn.predict()\n",
    "accuracy_knn, classification_report_knn = fit_knn.score()\n",
    "print(\"The accuracy achieved by knn model:\", accuracy_knn) \n",
    "print('#'*60)\n",
    "print(\"The classification report of knn model: \\n\", classification_report_knn)"
   ]
  },
  {
   "cell_type": "code",
   "execution_count": 460,
   "id": "55539147",
   "metadata": {
    "deletable": false,
    "editable": false
   },
   "outputs": [
    {
     "data": {
      "text/html": [
       "<p><strong><pre style='display: inline;'>q4_1_2</pre></strong> passed! 🙌</p>"
      ],
      "text/plain": [
       "q4_1_2 results: All test cases passed!"
      ]
     },
     "execution_count": 460,
     "metadata": {},
     "output_type": "execute_result"
    }
   ],
   "source": [
    "grader.check(\"q4_1_2\")"
   ]
  },
  {
   "attachments": {},
   "cell_type": "markdown",
   "id": "3c4b8636",
   "metadata": {
    "deletable": false,
    "editable": false
   },
   "source": [
    "**Question 4.2.1** \n",
    "\n",
    "Complete the following Python class (named `RandomForest`) as per the docstrings mentioned to fit, predict, and evaluate the model's score. The `fit()` must have an option to perform hyperparameter tuning. The optimal values should be used such that the model accuracy must be more than `83%`. \n",
    "<!--\n",
    "BEGIN QUESTION\n",
    "name: q4_2_1\n",
    "points:\n",
    " - 10\n",
    "-->"
   ]
  },
  {
   "cell_type": "code",
   "execution_count": 470,
   "id": "6cb9a3e8",
   "metadata": {},
   "outputs": [],
   "source": [
    "class RandomForest:\n",
    "    def __init__(self, X, y, random_state=RANDOM_STATE):\n",
    "        \"\"\"Initializes the RandomForest class with the input features X and target variable y,\n",
    "        and the random state used for reproducibility.\n",
    "\n",
    "        Parameters:\n",
    "        -----------\n",
    "        X : pandas.DataFrame\n",
    "            The input feature matrix of shape (n_samples, n_features).\n",
    "        y : pandas.Series\n",
    "            The target variable of shape (n_samples,).\n",
    "        random_state : int, default=RANDOM_STATE, which is 42\n",
    "            The seed value for random number generator used to split the data.\n",
    "\n",
    "        Returns:\n",
    "        --------\n",
    "        None\"\"\"\n",
    "\n",
    "        self.X = X\n",
    "        self.y = y\n",
    "        self.random_state = random_state\n",
    "        self.model = None\n",
    "        self.best_params = {} \n",
    "        self.best_score = 0 \n",
    "        self.X_train, self.X_test, self.y_train, self.y_test = train_test_split(self.X, self.y, test_size=0.2, random_state=random_state)\n",
    "    \n",
    "    def fit(self, tune_fit=\"yes\"):\n",
    "        \"\"\"Trains the random forest model using the input data X and y.\n",
    "        If tune_fit is set to \"yes\", it tunes the hyperparameters using GridSearchCV(), otherwise, with default parameters.\n",
    "        It then stores the best hyperparameters and best estimator in the attributes best_params and model, respectively.\n",
    "\n",
    "        Parameters:\n",
    "        -----------\n",
    "        tune_fit : str, default=\"yes\"\n",
    "            If \"yes\", tune the hyperparameters using GridSearchCV(), otherwise use default parameters.\n",
    "\n",
    "        Returns:\n",
    "        --------\n",
    "        None\n",
    "        \"\"\"\n",
    "\n",
    "        if tune_fit==\"yes\":\n",
    "            param_grid = {'n_estimators': [50, 75, 100, 125, 150]}\n",
    "            grid_search = GridSearchCV(RandomForestClassifier(random_state=self.random_state), param_grid=param_grid, cv = 10)\n",
    "            grid_search.fit(self.X_train, self.y_train)\n",
    "            self.best_params = grid_search.best_params_\n",
    "            self.model = grid_search.best_estimator_\n",
    "        else: \n",
    "            self.model = RandomForestClassifier(random_state=self.random_state)\n",
    "            self.model.fit(self.X_train, self.y_train)\n",
    "            \n",
    "    def predict(self):\n",
    "        \"\"\"Predicts the target variable of the test data using the trained random forest model.\n",
    "        Returns the predicted target variable values.\n",
    "\n",
    "        Parameters:\n",
    "        -----------\n",
    "        None\n",
    "\n",
    "        Returns:\n",
    "        --------\n",
    "        numpy.ndarray: The predicted target variable values\n",
    "        \n",
    "        \"\"\"\n",
    "        return self.model.predict(self.X_test)\n",
    "    \n",
    "    def score(self):\n",
    "        \"\"\"Computes the accuracy score and classification report for the predicted target variable and the actual test target variable.\n",
    "\n",
    "        Parameters:\n",
    "        -----------\n",
    "        None\n",
    "\n",
    "        Returns:\n",
    "        --------\n",
    "        accuracy score: The ratio of the correctly predicted observations to the total observations.\n",
    "        \n",
    "        classification report: A text report of the main classification metrics such as precision, recall, f1-score and support for each class.\"\"\"\n",
    "        \n",
    "        y_pred = self.predict()\n",
    "        accuracy = accuracy_score(self.y_test, y_pred)\n",
    "        report = classification_report(self.y_test, y_pred)\n",
    "        return accuracy, report\n",
    "    \n",
    "    def plot_decision_tree(self):\n",
    "        \"\"\"Plots the first decision tree in the trained random forest model.\n",
    "        Parameters:\n",
    "        -----------\n",
    "        None\n",
    "\n",
    "        Returns:\n",
    "        -------- \n",
    "        None\n",
    "        \"\"\"\n",
    "\n",
    "        # Extract the first tree from the forest\n",
    "        estimator = self.model.estimators_[0] \n",
    "\n",
    "        # Plot the decision tree\n",
    "        plt.figure(figsize=(12, 8)) \n",
    "        plot_tree(estimator, filled=True)\n",
    "        plt.draw() \n",
    "    \n",
    "    def plot_feature_importance(self, top=10):\n",
    "        \"\"\"Plots a horizontal bar chart of the top (by default 10) important features in the random forest model.\n",
    "\n",
    "        Parameters:\n",
    "        -----------\n",
    "        top: The number of top important features to display. Default is 10.\n",
    "\n",
    "        Returns: \n",
    "        -----------\n",
    "        None\"\"\"\n",
    "        importances = self.model.feature_importances_\n",
    "        indices = np.argsort(importances)[::-1]\n",
    "        plt.title(\"Feature Importance\")\n",
    "        plt.figure(figsize=(12,8))\n",
    "        plt.barh(range(top), importances[indices][:top], align=\"center\")\n",
    "        plt.yticks(range(top), [self.X.columns[i] for i in indices[-top:]])\n",
    "        plt.xlabel(\"Relative Importance\")\n",
    "        plt.draw()\n"
   ]
  },
  {
   "cell_type": "code",
   "execution_count": 465,
   "id": "ff543522",
   "metadata": {
    "deletable": false,
    "editable": false
   },
   "outputs": [
    {
     "data": {
      "text/html": [
       "<p><strong><pre style='display: inline;'>q4_2_1</pre></strong> passed! 🎉</p>"
      ],
      "text/plain": [
       "q4_2_1 results: All test cases passed!"
      ]
     },
     "execution_count": 465,
     "metadata": {},
     "output_type": "execute_result"
    }
   ],
   "source": [
    "grader.check(\"q4_2_1\")"
   ]
  },
  {
   "attachments": {},
   "cell_type": "markdown",
   "id": "a44d6f46",
   "metadata": {
    "deletable": false,
    "editable": false
   },
   "source": [
    "**Question 4.2.2** \n",
    "\n",
    "Use the `RandomForest` class to fit, predict and report the accuracy, precision and recall of the model on movies dataset (X, y). \n",
    "<!--\n",
    "BEGIN QUESTION\n",
    "name: q4_2_2\n",
    "points:\n",
    " - 3\n",
    " - 0\n",
    "-->"
   ]
  },
  {
   "cell_type": "code",
   "execution_count": 471,
   "id": "eb3ec7ae",
   "metadata": {},
   "outputs": [
    {
     "name": "stdout",
     "output_type": "stream",
     "text": [
      "The accuracy achieved by random forest model: 0.835820895522388\n",
      "############################################################\n",
      "The classification report of random forest model: \n",
      "               precision    recall  f1-score   support\n",
      "\n",
      "      comedy       0.91      0.50      0.65        20\n",
      "    thriller       0.82      0.98      0.89        47\n",
      "\n",
      "    accuracy                           0.84        67\n",
      "   macro avg       0.87      0.74      0.77        67\n",
      "weighted avg       0.85      0.84      0.82        67\n",
      "\n"
     ]
    },
    {
     "data": {
      "image/png": "[encoded data removed]",
      "text/plain": [
       "<Figure size 1200x800 with 1 Axes>"
      ]
     },
     "metadata": {},
     "output_type": "display_data"
    },
    {
     "data": {
      "image/png": "[encoded data removed]",
      "text/plain": [
       "<Figure size 1200x800 with 1 Axes>"
      ]
     },
     "metadata": {},
     "output_type": "display_data"
    }
   ],
   "source": [
    "fit_rf = RandomForest(X, y)\n",
    "fit_rf.fit(tune_fit=\"yes\")\n",
    "pred_rf = fit_rf.predict()\n",
    "accuracy_rf, classification_report_rf = fit_rf.score()\n",
    "print(\"The accuracy achieved by random forest model:\", accuracy_rf)\n",
    "print('#'*60)\n",
    "print(\"The classification report of random forest model: \\n\", classification_report_rf)\n",
    "fit_rf.plot_decision_tree()\n",
    "fit_rf.plot_feature_importance(top=10)"
   ]
  },
  {
   "cell_type": "code",
   "execution_count": 388,
   "id": "19471fb0",
   "metadata": {
    "deletable": false,
    "editable": false
   },
   "outputs": [
    {
     "data": {
      "text/html": [
       "<p><strong><pre style='display: inline;'>q4_2_2</pre></strong> passed! 🍀</p>"
      ],
      "text/plain": [
       "q4_2_2 results: All test cases passed!"
      ]
     },
     "execution_count": 388,
     "metadata": {},
     "output_type": "execute_result"
    }
   ],
   "source": [
    "grader.check(\"q4_2_2\")"
   ]
  },
  {
   "attachments": {},
   "cell_type": "markdown",
   "id": "2a4df3b3",
   "metadata": {
    "deletable": false,
    "editable": false
   },
   "source": [
    "<!-- BEGIN QUESTION -->\n",
    "\n",
    "**Question 4.3.1 (Maually Graded)** \n",
    "\n",
    "1. Which model is better in terms of accuracy? \n",
    "2. Which model has the highest recall score and why?\n",
    "3. What can you infer about the performance of the two models based on their precision and recall scores?\n",
    "4. How do the precision, recall, and F1 scores change when the hyper-parameters of the KNN and Random Forest models are tuned?\n",
    "5. How do the precision, recall, and F1 scores vary when the KNN model is trained on different values of k or when the Random Forest model is trained on a different number of decision trees?\n",
    "\n",
    "<!--\n",
    "BEGIN QUESTION\n",
    "name: q4_3_1\n",
    "manual: true\n",
    "points: 10\n",
    "-->"
   ]
  },
  {
   "attachments": {},
   "cell_type": "raw",
   "id": "b53bae95",
   "metadata": {},
   "source": [
    "1. The accuracy for both models are 84%, both are equal\n",
    "2. KNN has the highest recall score this is because it was the best of getting the most true positive scores out of all positive scores\n",
    "3. The precision and recall scores are high meaning the models are good at determining positive classifications\n",
    "4. if you do not tune the hyperparam you will get worse performance metrics. For example if you turn tune off in KNN you get accuracy = 50. also if you change the range in the tune for KNN such as searching for best nearest neighbour 1-20 you will get a worse accruacy opposed to nearest neighbour 1-50 param grid since the optmial nearest neighbour value ended up being 43 for the best accuracy score\n",
    "5. The higher value of K the more underfit the model will be. As you change k the performance metrcs will change. You must to do grid search to determine the ideal amount"
   ]
  },
  {
   "attachments": {},
   "cell_type": "markdown",
   "id": "a9eabae8",
   "metadata": {
    "deletable": false,
    "editable": false
   },
   "source": [
    "<!-- END QUESTION -->\n",
    "\n",
    "<!-- BEGIN QUESTION -->\n",
    "\n",
    "**Question 4.3.2 (Maually Graded)** \n",
    "\n",
    "1. How did you tune the hyperparameters of the KNN and Random Forest algorithms, and what was the effect of hyperparameter tuning on the performance of the classification algorithm?\n",
    "\n",
    "2. Can you explain the decision boundary of the classification algorithm for the movie genre classification problem? How does the decision boundary change with different values of k in the KNN algorithm, or with different number of decision trees in the Random Forest algorithm?\n",
    "   \n",
    "3. If the data used to train the KNN and Random Forest models was imbalanced such that one class had significantly fewer samples than the others, which model would be more effective at correctly identifying samples from the underrepresented class based on the recall score, and why?\n",
    "\n",
    "4. How would the precision, recall, and F1 scores for the KNN and Random Forest models change if a new class was added to the classification problem, and why?\n",
    "\n",
    "5. How does the number of decision trees used in the Random Forest model impact the precision and recall scores, and what is the optimal number of decision trees to use based on the given classification report?\n",
    "   \n",
    "\n",
    "<!--\n",
    "BEGIN QUESTION\n",
    "name: q4_3_2\n",
    "manual: true\n",
    "points: 10\n",
    "-->"
   ]
  },
  {
   "attachments": {},
   "cell_type": "raw",
   "id": "2bd29bb1",
   "metadata": {},
   "source": [
    "1. We tuned the KNN by changing the k and we tuned the random forest by changing the amount of decision trees.\n",
    "2. When k is lower than the model will be over fit as the decision boundary will be very precise. Random forest tend not to overfit as the number of trees increases the model will tend to stay at the same fitness level\n",
    "3. KNN had the higher recall score.  recall expresses the ability to find all relevant instances of a class in a data therefore it would be worse off if one calss had fewer samples. Random forest is also known for handling imbalanced datasets\n",
    "4. If you were to add a new class this would add to the complexity of the problem and decrease the scores. Though KNN handle perfroms better with more classes\n",
    "5. Predictive performance tends to increase when adding more decision trees though this will have computional cost. This will increases the perfromance scores. We found 100 decision trees was the optimal amount"
   ]
  }
 ],
 "metadata": {
  "kernelspec": {
   "display_name": "Python 3.9.13 ('base')",
   "language": "python",
   "name": "python3"
  },
  "language_info": {
   "codemirror_mode": {
    "name": "ipython",
    "version": 3
   },
   "file_extension": ".py",
   "mimetype": "text/x-python",
   "name": "python",
   "nbconvert_exporter": "python",
   "pygments_lexer": "ipython3",
   "version": "3.9.13"
  },
  "vscode": {
   "interpreter": {
    "hash": "2043299c89c8cd0b4d1a6f5cf4529bd58e6a4e0fe3181a25e0d328c821cdc5c5"
   }
  },
  "widgets": {
   "application/vnd.jupyter.widget-state+json": {
    "state": {
     "05d5ae6aa2984768b0c14f5907eddc65": {
      "model_module": "@jupyter-widgets/controls",
      "model_module_version": "1.5.0",
      "model_name": "LabelModel",
      "state": {
       "_dom_classes": [],
       "_model_module": "@jupyter-widgets/controls",
       "_model_module_version": "1.5.0",
       "_model_name": "LabelModel",
       "_view_count": null,
       "_view_module": "@jupyter-widgets/controls",
       "_view_module_version": "1.5.0",
       "_view_name": "LabelView",
       "description": "",
       "description_tooltip": null,
       "layout": "IPY_MODEL_bfcea90c9609480d89b6e93d4a77cd8f",
       "placeholder": "​",
       "style": "IPY_MODEL_f0e7814e15114838b74c3b41270e0db1",
       "value": "Any other feedback?"
      }
     },
     "06f42294ec3d40b49a3dfae13a997900": {
      "model_module": "@jupyter-widgets/controls",
      "model_module_version": "1.5.0",
      "model_name": "ButtonStyleModel",
      "state": {
       "_model_module": "@jupyter-widgets/controls",
       "_model_module_version": "1.5.0",
       "_model_name": "ButtonStyleModel",
       "_view_count": null,
       "_view_module": "@jupyter-widgets/base",
       "_view_module_version": "1.2.0",
       "_view_name": "StyleView",
       "button_color": null,
       "font_weight": ""
      }
     },
     "092c234dfebd4a9caf3ad83415b562a2": {
      "model_module": "@jupyter-widgets/controls",
      "model_module_version": "1.5.0",
      "model_name": "DescriptionStyleModel",
      "state": {
       "_model_module": "@jupyter-widgets/controls",
       "_model_module_version": "1.5.0",
       "_model_name": "DescriptionStyleModel",
       "_view_count": null,
       "_view_module": "@jupyter-widgets/base",
       "_view_module_version": "1.2.0",
       "_view_name": "StyleView",
       "description_width": ""
      }
     },
     "0d236030e4514bb9b6efc40f4059945c": {
      "model_module": "@jupyter-widgets/controls",
      "model_module_version": "1.5.0",
      "model_name": "DescriptionStyleModel",
      "state": {
       "_model_module": "@jupyter-widgets/controls",
       "_model_module_version": "1.5.0",
       "_model_name": "DescriptionStyleModel",
       "_view_count": null,
       "_view_module": "@jupyter-widgets/base",
       "_view_module_version": "1.2.0",
       "_view_name": "StyleView",
       "description_width": ""
      }
     },
     "21bcb0dd02d4420d84ebadf2effc3505": {
      "model_module": "@jupyter-widgets/base",
      "model_module_version": "1.2.0",
      "model_name": "LayoutModel",
      "state": {
       "_model_module": "@jupyter-widgets/base",
       "_model_module_version": "1.2.0",
       "_model_name": "LayoutModel",
       "_view_count": null,
       "_view_module": "@jupyter-widgets/base",
       "_view_module_version": "1.2.0",
       "_view_name": "LayoutView",
       "align_content": null,
       "align_items": null,
       "align_self": null,
       "border": null,
       "bottom": null,
       "display": null,
       "flex": null,
       "flex_flow": null,
       "grid_area": null,
       "grid_auto_columns": null,
       "grid_auto_flow": null,
       "grid_auto_rows": null,
       "grid_column": null,
       "grid_gap": null,
       "grid_row": null,
       "grid_template_areas": null,
       "grid_template_columns": null,
       "grid_template_rows": null,
       "height": null,
       "justify_content": null,
       "justify_items": null,
       "left": null,
       "margin": null,
       "max_height": null,
       "max_width": null,
       "min_height": null,
       "min_width": null,
       "object_fit": null,
       "object_position": null,
       "order": null,
       "overflow": null,
       "overflow_x": null,
       "overflow_y": null,
       "padding": null,
       "right": null,
       "top": null,
       "visibility": null,
       "width": null
      }
     },
     "29aff87f8b8546d08e60bc537aba94dd": {
      "model_module": "@jupyter-widgets/controls",
      "model_module_version": "1.5.0",
      "model_name": "LabelModel",
      "state": {
       "_dom_classes": [],
       "_model_module": "@jupyter-widgets/controls",
       "_model_module_version": "1.5.0",
       "_model_name": "LabelModel",
       "_view_count": null,
       "_view_module": "@jupyter-widgets/controls",
       "_view_module_version": "1.5.0",
       "_view_name": "LabelView",
       "description": "",
       "description_tooltip": null,
       "layout": "IPY_MODEL_89377d4f580f4f37bcf43f96f8a6823b",
       "placeholder": "​",
       "style": "IPY_MODEL_092c234dfebd4a9caf3ad83415b562a2",
       "value": "Any other feedback?"
      }
     },
     "2a1d4311a103475083029c421916ee43": {
      "model_module": "@jupyter-widgets/base",
      "model_module_version": "1.2.0",
      "model_name": "LayoutModel",
      "state": {
       "_model_module": "@jupyter-widgets/base",
       "_model_module_version": "1.2.0",
       "_model_name": "LayoutModel",
       "_view_count": null,
       "_view_module": "@jupyter-widgets/base",
       "_view_module_version": "1.2.0",
       "_view_name": "LayoutView",
       "align_content": null,
       "align_items": null,
       "align_self": null,
       "border": null,
       "bottom": null,
       "display": null,
       "flex": null,
       "flex_flow": null,
       "grid_area": null,
       "grid_auto_columns": null,
       "grid_auto_flow": null,
       "grid_auto_rows": null,
       "grid_column": null,
       "grid_gap": null,
       "grid_row": null,
       "grid_template_areas": null,
       "grid_template_columns": null,
       "grid_template_rows": null,
       "height": null,
       "justify_content": null,
       "justify_items": null,
       "left": null,
       "margin": null,
       "max_height": null,
       "max_width": null,
       "min_height": null,
       "min_width": null,
       "object_fit": null,
       "object_position": null,
       "order": null,
       "overflow": null,
       "overflow_x": null,
       "overflow_y": null,
       "padding": null,
       "right": null,
       "top": null,
       "visibility": null,
       "width": null
      }
     },
     "3235d94f56a34f72a1af366e4ee23058": {
      "model_module": "@jupyter-widgets/base",
      "model_module_version": "1.2.0",
      "model_name": "LayoutModel",
      "state": {
       "_model_module": "@jupyter-widgets/base",
       "_model_module_version": "1.2.0",
       "_model_name": "LayoutModel",
       "_view_count": null,
       "_view_module": "@jupyter-widgets/base",
       "_view_module_version": "1.2.0",
       "_view_name": "LayoutView",
       "align_content": null,
       "align_items": "center",
       "align_self": null,
       "border": null,
       "bottom": null,
       "display": null,
       "flex": null,
       "flex_flow": null,
       "grid_area": null,
       "grid_auto_columns": null,
       "grid_auto_flow": null,
       "grid_auto_rows": null,
       "grid_column": null,
       "grid_gap": null,
       "grid_row": null,
       "grid_template_areas": null,
       "grid_template_columns": null,
       "grid_template_rows": null,
       "height": null,
       "justify_content": null,
       "justify_items": null,
       "left": null,
       "margin": null,
       "max_height": null,
       "max_width": null,
       "min_height": null,
       "min_width": null,
       "object_fit": null,
       "object_position": null,
       "order": null,
       "overflow": null,
       "overflow_x": null,
       "overflow_y": null,
       "padding": null,
       "right": null,
       "top": null,
       "visibility": null,
       "width": null
      }
     },
     "37003d22b60547ffbcfebf03d245eb88": {
      "model_module": "@jupyter-widgets/controls",
      "model_module_version": "1.5.0",
      "model_name": "DescriptionStyleModel",
      "state": {
       "_model_module": "@jupyter-widgets/controls",
       "_model_module_version": "1.5.0",
       "_model_name": "DescriptionStyleModel",
       "_view_count": null,
       "_view_module": "@jupyter-widgets/base",
       "_view_module_version": "1.2.0",
       "_view_name": "StyleView",
       "description_width": ""
      }
     },
     "38b111728e6e4c7fb097863792ca3ffe": {
      "model_module": "@jupyter-widgets/controls",
      "model_module_version": "1.5.0",
      "model_name": "DescriptionStyleModel",
      "state": {
       "_model_module": "@jupyter-widgets/controls",
       "_model_module_version": "1.5.0",
       "_model_name": "DescriptionStyleModel",
       "_view_count": null,
       "_view_module": "@jupyter-widgets/base",
       "_view_module_version": "1.2.0",
       "_view_name": "StyleView",
       "description_width": ""
      }
     },
     "3d5cdf1323894e228092c28afc88d492": {
      "model_module": "@jupyter-widgets/base",
      "model_module_version": "1.2.0",
      "model_name": "LayoutModel",
      "state": {
       "_model_module": "@jupyter-widgets/base",
       "_model_module_version": "1.2.0",
       "_model_name": "LayoutModel",
       "_view_count": null,
       "_view_module": "@jupyter-widgets/base",
       "_view_module_version": "1.2.0",
       "_view_name": "LayoutView",
       "align_content": null,
       "align_items": null,
       "align_self": null,
       "border": null,
       "bottom": null,
       "display": null,
       "flex": null,
       "flex_flow": null,
       "grid_area": null,
       "grid_auto_columns": null,
       "grid_auto_flow": null,
       "grid_auto_rows": null,
       "grid_column": null,
       "grid_gap": null,
       "grid_row": null,
       "grid_template_areas": null,
       "grid_template_columns": null,
       "grid_template_rows": null,
       "height": null,
       "justify_content": null,
       "justify_items": null,
       "left": null,
       "margin": null,
       "max_height": null,
       "max_width": null,
       "min_height": null,
       "min_width": null,
       "object_fit": null,
       "object_position": null,
       "order": null,
       "overflow": null,
       "overflow_x": null,
       "overflow_y": null,
       "padding": null,
       "right": null,
       "top": null,
       "visibility": null,
       "width": null
      }
     },
     "40cc1ff5aa9645b5b9349f8a1a169b8b": {
      "model_module": "@jupyter-widgets/controls",
      "model_module_version": "1.5.0",
      "model_name": "DropdownModel",
      "state": {
       "_dom_classes": [],
       "_model_module": "@jupyter-widgets/controls",
       "_model_module_version": "1.5.0",
       "_model_name": "DropdownModel",
       "_options_labels": [
        "",
        "Extremely useful",
        "Very useful",
        "Somewhat useful",
        "Slightly useful",
        "Not at all useful"
       ],
       "_view_count": null,
       "_view_module": "@jupyter-widgets/controls",
       "_view_module_version": "1.5.0",
       "_view_name": "DropdownView",
       "description": "",
       "description_tooltip": null,
       "disabled": false,
       "index": 0,
       "layout": "IPY_MODEL_e4ed15737d304e3e80a0fb8839b517e3",
       "style": "IPY_MODEL_0d236030e4514bb9b6efc40f4059945c"
      }
     },
     "4288f1a1c5054f69845b6511a635cb68": {
      "model_module": "@jupyter-widgets/controls",
      "model_module_version": "1.5.0",
      "model_name": "AccordionModel",
      "state": {
       "_dom_classes": [],
       "_model_module": "@jupyter-widgets/controls",
       "_model_module_version": "1.5.0",
       "_model_name": "AccordionModel",
       "_titles": {
        "0": "  Feedback Form"
       },
       "_view_count": null,
       "_view_module": "@jupyter-widgets/controls",
       "_view_module_version": "1.5.0",
       "_view_name": "AccordionView",
       "box_style": "",
       "children": [
        "IPY_MODEL_d9d2ac9e22e14426b033981d1d4cd136"
       ],
       "layout": "IPY_MODEL_4f32203f7ebd4402bc06bf760e318a76",
       "selected_index": 0
      }
     },
     "42a8403a4d2d43dc98fb2847d1dc72f7": {
      "model_module": "@jupyter-widgets/controls",
      "model_module_version": "1.5.0",
      "model_name": "DescriptionStyleModel",
      "state": {
       "_model_module": "@jupyter-widgets/controls",
       "_model_module_version": "1.5.0",
       "_model_name": "DescriptionStyleModel",
       "_view_count": null,
       "_view_module": "@jupyter-widgets/base",
       "_view_module_version": "1.2.0",
       "_view_name": "StyleView",
       "description_width": ""
      }
     },
     "42f4cad31dca46438e1d893262ca8836": {
      "model_module": "@jupyter-widgets/base",
      "model_module_version": "1.2.0",
      "model_name": "LayoutModel",
      "state": {
       "_model_module": "@jupyter-widgets/base",
       "_model_module_version": "1.2.0",
       "_model_name": "LayoutModel",
       "_view_count": null,
       "_view_module": "@jupyter-widgets/base",
       "_view_module_version": "1.2.0",
       "_view_name": "LayoutView",
       "align_content": null,
       "align_items": null,
       "align_self": null,
       "border": null,
       "bottom": null,
       "display": null,
       "flex": null,
       "flex_flow": null,
       "grid_area": null,
       "grid_auto_columns": null,
       "grid_auto_flow": null,
       "grid_auto_rows": null,
       "grid_column": null,
       "grid_gap": null,
       "grid_row": null,
       "grid_template_areas": null,
       "grid_template_columns": null,
       "grid_template_rows": null,
       "height": null,
       "justify_content": null,
       "justify_items": null,
       "left": null,
       "margin": null,
       "max_height": null,
       "max_width": null,
       "min_height": null,
       "min_width": null,
       "object_fit": null,
       "object_position": null,
       "order": null,
       "overflow": null,
       "overflow_x": null,
       "overflow_y": null,
       "padding": null,
       "right": null,
       "top": null,
       "visibility": null,
       "width": null
      }
     },
     "493c47eb86354614804669a1f8042027": {
      "model_module": "@jupyter-widgets/base",
      "model_module_version": "1.2.0",
      "model_name": "LayoutModel",
      "state": {
       "_model_module": "@jupyter-widgets/base",
       "_model_module_version": "1.2.0",
       "_model_name": "LayoutModel",
       "_view_count": null,
       "_view_module": "@jupyter-widgets/base",
       "_view_module_version": "1.2.0",
       "_view_name": "LayoutView",
       "align_content": null,
       "align_items": null,
       "align_self": null,
       "border": null,
       "bottom": null,
       "display": null,
       "flex": null,
       "flex_flow": null,
       "grid_area": null,
       "grid_auto_columns": null,
       "grid_auto_flow": null,
       "grid_auto_rows": null,
       "grid_column": null,
       "grid_gap": null,
       "grid_row": null,
       "grid_template_areas": null,
       "grid_template_columns": null,
       "grid_template_rows": null,
       "height": null,
       "justify_content": null,
       "justify_items": null,
       "left": null,
       "margin": null,
       "max_height": null,
       "max_width": null,
       "min_height": null,
       "min_width": null,
       "object_fit": null,
       "object_position": null,
       "order": null,
       "overflow": null,
       "overflow_x": null,
       "overflow_y": null,
       "padding": null,
       "right": null,
       "top": null,
       "visibility": null,
       "width": null
      }
     },
     "49f99381df8346e5a2b96c2ea3089671": {
      "model_module": "@jupyter-widgets/controls",
      "model_module_version": "1.5.0",
      "model_name": "VBoxModel",
      "state": {
       "_dom_classes": [],
       "_model_module": "@jupyter-widgets/controls",
       "_model_module_version": "1.5.0",
       "_model_name": "VBoxModel",
       "_view_count": null,
       "_view_module": "@jupyter-widgets/controls",
       "_view_module_version": "1.5.0",
       "_view_name": "VBoxView",
       "box_style": "",
       "children": [
        "IPY_MODEL_29aff87f8b8546d08e60bc537aba94dd",
        "IPY_MODEL_fbb2dbe2977f4211910b2c54fdf17eec"
       ],
       "layout": "IPY_MODEL_2a1d4311a103475083029c421916ee43"
      }
     },
     "4b247006d3324aca86d27d7cb1e6fa96": {
      "model_module": "@jupyter-widgets/controls",
      "model_module_version": "1.5.0",
      "model_name": "HBoxModel",
      "state": {
       "_dom_classes": [],
       "_model_module": "@jupyter-widgets/controls",
       "_model_module_version": "1.5.0",
       "_model_name": "HBoxModel",
       "_view_count": null,
       "_view_module": "@jupyter-widgets/controls",
       "_view_module_version": "1.5.0",
       "_view_name": "HBoxView",
       "box_style": "",
       "children": [
        "IPY_MODEL_9b3458b6a24046ef908d8c26a71ea65d",
        "IPY_MODEL_f29225ae84ef46e0a73e77a51250994e"
       ],
       "layout": "IPY_MODEL_ceec7647ed924052b624075e1a5fbce1"
      }
     },
     "4f32203f7ebd4402bc06bf760e318a76": {
      "model_module": "@jupyter-widgets/base",
      "model_module_version": "1.2.0",
      "model_name": "LayoutModel",
      "state": {
       "_model_module": "@jupyter-widgets/base",
       "_model_module_version": "1.2.0",
       "_model_name": "LayoutModel",
       "_view_count": null,
       "_view_module": "@jupyter-widgets/base",
       "_view_module_version": "1.2.0",
       "_view_name": "LayoutView",
       "align_content": null,
       "align_items": null,
       "align_self": null,
       "border": null,
       "bottom": null,
       "display": null,
       "flex": null,
       "flex_flow": null,
       "grid_area": null,
       "grid_auto_columns": null,
       "grid_auto_flow": null,
       "grid_auto_rows": null,
       "grid_column": null,
       "grid_gap": null,
       "grid_row": null,
       "grid_template_areas": null,
       "grid_template_columns": null,
       "grid_template_rows": null,
       "height": null,
       "justify_content": null,
       "justify_items": null,
       "left": null,
       "margin": null,
       "max_height": null,
       "max_width": null,
       "min_height": null,
       "min_width": null,
       "object_fit": null,
       "object_position": null,
       "order": null,
       "overflow": null,
       "overflow_x": null,
       "overflow_y": null,
       "padding": null,
       "right": null,
       "top": null,
       "visibility": null,
       "width": null
      }
     },
     "4ff708fe1e104b128085bbf3d633ca76": {
      "model_module": "@jupyter-widgets/base",
      "model_module_version": "1.2.0",
      "model_name": "LayoutModel",
      "state": {
       "_model_module": "@jupyter-widgets/base",
       "_model_module_version": "1.2.0",
       "_model_name": "LayoutModel",
       "_view_count": null,
       "_view_module": "@jupyter-widgets/base",
       "_view_module_version": "1.2.0",
       "_view_name": "LayoutView",
       "align_content": null,
       "align_items": null,
       "align_self": null,
       "border": null,
       "bottom": null,
       "display": null,
       "flex": null,
       "flex_flow": null,
       "grid_area": null,
       "grid_auto_columns": null,
       "grid_auto_flow": null,
       "grid_auto_rows": null,
       "grid_column": null,
       "grid_gap": null,
       "grid_row": null,
       "grid_template_areas": null,
       "grid_template_columns": null,
       "grid_template_rows": null,
       "height": null,
       "justify_content": null,
       "justify_items": null,
       "left": null,
       "margin": null,
       "max_height": null,
       "max_width": null,
       "min_height": null,
       "min_width": "80px",
       "object_fit": null,
       "object_position": null,
       "order": null,
       "overflow": null,
       "overflow_x": null,
       "overflow_y": null,
       "padding": null,
       "right": null,
       "top": null,
       "visibility": null,
       "width": "10%"
      }
     },
     "51284fc3d51d4e539ed69399819e1460": {
      "model_module": "@jupyter-widgets/base",
      "model_module_version": "1.2.0",
      "model_name": "LayoutModel",
      "state": {
       "_model_module": "@jupyter-widgets/base",
       "_model_module_version": "1.2.0",
       "_model_name": "LayoutModel",
       "_view_count": null,
       "_view_module": "@jupyter-widgets/base",
       "_view_module_version": "1.2.0",
       "_view_name": "LayoutView",
       "align_content": null,
       "align_items": null,
       "align_self": null,
       "border": null,
       "bottom": null,
       "display": null,
       "flex": null,
       "flex_flow": null,
       "grid_area": null,
       "grid_auto_columns": null,
       "grid_auto_flow": null,
       "grid_auto_rows": null,
       "grid_column": null,
       "grid_gap": null,
       "grid_row": null,
       "grid_template_areas": null,
       "grid_template_columns": null,
       "grid_template_rows": null,
       "height": null,
       "justify_content": null,
       "justify_items": null,
       "left": null,
       "margin": null,
       "max_height": null,
       "max_width": null,
       "min_height": null,
       "min_width": null,
       "object_fit": null,
       "object_position": null,
       "order": null,
       "overflow": null,
       "overflow_x": null,
       "overflow_y": null,
       "padding": null,
       "right": null,
       "top": null,
       "visibility": null,
       "width": null
      }
     },
     "571db8dc8c3b462eb3de6d5758ec06c9": {
      "model_module": "@jupyter-widgets/controls",
      "model_module_version": "1.5.0",
      "model_name": "ButtonModel",
      "state": {
       "_dom_classes": [],
       "_model_module": "@jupyter-widgets/controls",
       "_model_module_version": "1.5.0",
       "_model_name": "ButtonModel",
       "_view_count": null,
       "_view_module": "@jupyter-widgets/controls",
       "_view_module_version": "1.5.0",
       "_view_name": "ButtonView",
       "button_style": "",
       "description": "Submit",
       "disabled": false,
       "icon": "",
       "layout": "IPY_MODEL_e810cd269b8d41f2badf41d54303dde5",
       "style": "IPY_MODEL_70c7cfd51679406ea2da0ee5ce44c4c0",
       "tooltip": ""
      }
     },
     "62c94b9aa3754937b45cc22c485a1660": {
      "model_module": "@jupyter-widgets/controls",
      "model_module_version": "1.5.0",
      "model_name": "DropdownModel",
      "state": {
       "_dom_classes": [],
       "_model_module": "@jupyter-widgets/controls",
       "_model_module_version": "1.5.0",
       "_model_name": "DropdownModel",
       "_options_labels": [
        "",
        "Extremely useful",
        "Very useful",
        "Somewhat useful",
        "Slightly useful",
        "Not at all useful"
       ],
       "_view_count": null,
       "_view_module": "@jupyter-widgets/controls",
       "_view_module_version": "1.5.0",
       "_view_name": "DropdownView",
       "description": "",
       "description_tooltip": null,
       "disabled": false,
       "index": 0,
       "layout": "IPY_MODEL_51284fc3d51d4e539ed69399819e1460",
       "style": "IPY_MODEL_37003d22b60547ffbcfebf03d245eb88"
      }
     },
     "67474b9c02c34b378905fb36ac1575cb": {
      "model_module": "@jupyter-widgets/controls",
      "model_module_version": "1.5.0",
      "model_name": "VBoxModel",
      "state": {
       "_dom_classes": [],
       "_model_module": "@jupyter-widgets/controls",
       "_model_module_version": "1.5.0",
       "_model_name": "VBoxModel",
       "_view_count": null,
       "_view_module": "@jupyter-widgets/controls",
       "_view_module_version": "1.5.0",
       "_view_name": "VBoxView",
       "box_style": "",
       "children": [
        "IPY_MODEL_d7770d61c8de449784971c8c1efd8811",
        "IPY_MODEL_62c94b9aa3754937b45cc22c485a1660"
       ],
       "layout": "IPY_MODEL_8b4e353db1cf490aa089eb15015ad359"
      }
     },
     "6885bfa50492414d9450e7b08d531b9a": {
      "model_module": "@jupyter-widgets/controls",
      "model_module_version": "1.5.0",
      "model_name": "VBoxModel",
      "state": {
       "_dom_classes": [],
       "_model_module": "@jupyter-widgets/controls",
       "_model_module_version": "1.5.0",
       "_model_name": "VBoxModel",
       "_view_count": null,
       "_view_module": "@jupyter-widgets/controls",
       "_view_module_version": "1.5.0",
       "_view_name": "VBoxView",
       "box_style": "",
       "children": [
        "IPY_MODEL_05d5ae6aa2984768b0c14f5907eddc65",
        "IPY_MODEL_4b247006d3324aca86d27d7cb1e6fa96"
       ],
       "layout": "IPY_MODEL_8cff04b47e7d4c82af52080a50eeeed7"
      }
     },
     "70c7cfd51679406ea2da0ee5ce44c4c0": {
      "model_module": "@jupyter-widgets/controls",
      "model_module_version": "1.5.0",
      "model_name": "ButtonStyleModel",
      "state": {
       "_model_module": "@jupyter-widgets/controls",
       "_model_module_version": "1.5.0",
       "_model_name": "ButtonStyleModel",
       "_view_count": null,
       "_view_module": "@jupyter-widgets/base",
       "_view_module_version": "1.2.0",
       "_view_name": "StyleView",
       "button_color": null,
       "font_weight": ""
      }
     },
     "72fd2c285fe6444aab45b5dacacaa023": {
      "model_module": "@jupyter-widgets/controls",
      "model_module_version": "1.5.0",
      "model_name": "VBoxModel",
      "state": {
       "_dom_classes": [],
       "_model_module": "@jupyter-widgets/controls",
       "_model_module_version": "1.5.0",
       "_model_name": "VBoxModel",
       "_view_count": null,
       "_view_module": "@jupyter-widgets/controls",
       "_view_module_version": "1.5.0",
       "_view_name": "VBoxView",
       "box_style": "",
       "children": [
        "IPY_MODEL_fd191d0fa12a4f0b833c43c0e14eabe0",
        "IPY_MODEL_40cc1ff5aa9645b5b9349f8a1a169b8b"
       ],
       "layout": "IPY_MODEL_493c47eb86354614804669a1f8042027"
      }
     },
     "8737f06fc6d34d0b9b69eed931cf8b43": {
      "model_module": "@jupyter-widgets/controls",
      "model_module_version": "1.5.0",
      "model_name": "VBoxModel",
      "state": {
       "_dom_classes": [],
       "_model_module": "@jupyter-widgets/controls",
       "_model_module_version": "1.5.0",
       "_model_name": "VBoxModel",
       "_view_count": null,
       "_view_module": "@jupyter-widgets/controls",
       "_view_module_version": "1.5.0",
       "_view_name": "VBoxView",
       "box_style": "",
       "children": [
        "IPY_MODEL_67474b9c02c34b378905fb36ac1575cb",
        "IPY_MODEL_49f99381df8346e5a2b96c2ea3089671"
       ],
       "layout": "IPY_MODEL_3d5cdf1323894e228092c28afc88d492"
      }
     },
     "89377d4f580f4f37bcf43f96f8a6823b": {
      "model_module": "@jupyter-widgets/base",
      "model_module_version": "1.2.0",
      "model_name": "LayoutModel",
      "state": {
       "_model_module": "@jupyter-widgets/base",
       "_model_module_version": "1.2.0",
       "_model_name": "LayoutModel",
       "_view_count": null,
       "_view_module": "@jupyter-widgets/base",
       "_view_module_version": "1.2.0",
       "_view_name": "LayoutView",
       "align_content": null,
       "align_items": null,
       "align_self": null,
       "border": null,
       "bottom": null,
       "display": null,
       "flex": null,
       "flex_flow": null,
       "grid_area": null,
       "grid_auto_columns": null,
       "grid_auto_flow": null,
       "grid_auto_rows": null,
       "grid_column": null,
       "grid_gap": null,
       "grid_row": null,
       "grid_template_areas": null,
       "grid_template_columns": null,
       "grid_template_rows": null,
       "height": null,
       "justify_content": null,
       "justify_items": null,
       "left": null,
       "margin": null,
       "max_height": null,
       "max_width": null,
       "min_height": null,
       "min_width": null,
       "object_fit": null,
       "object_position": null,
       "order": null,
       "overflow": null,
       "overflow_x": null,
       "overflow_y": null,
       "padding": null,
       "right": null,
       "top": null,
       "visibility": null,
       "width": null
      }
     },
     "8b4e353db1cf490aa089eb15015ad359": {
      "model_module": "@jupyter-widgets/base",
      "model_module_version": "1.2.0",
      "model_name": "LayoutModel",
      "state": {
       "_model_module": "@jupyter-widgets/base",
       "_model_module_version": "1.2.0",
       "_model_name": "LayoutModel",
       "_view_count": null,
       "_view_module": "@jupyter-widgets/base",
       "_view_module_version": "1.2.0",
       "_view_name": "LayoutView",
       "align_content": null,
       "align_items": null,
       "align_self": null,
       "border": null,
       "bottom": null,
       "display": null,
       "flex": null,
       "flex_flow": null,
       "grid_area": null,
       "grid_auto_columns": null,
       "grid_auto_flow": null,
       "grid_auto_rows": null,
       "grid_column": null,
       "grid_gap": null,
       "grid_row": null,
       "grid_template_areas": null,
       "grid_template_columns": null,
       "grid_template_rows": null,
       "height": null,
       "justify_content": null,
       "justify_items": null,
       "left": null,
       "margin": null,
       "max_height": null,
       "max_width": null,
       "min_height": null,
       "min_width": null,
       "object_fit": null,
       "object_position": null,
       "order": null,
       "overflow": null,
       "overflow_x": null,
       "overflow_y": null,
       "padding": null,
       "right": null,
       "top": null,
       "visibility": null,
       "width": null
      }
     },
     "8cff04b47e7d4c82af52080a50eeeed7": {
      "model_module": "@jupyter-widgets/base",
      "model_module_version": "1.2.0",
      "model_name": "LayoutModel",
      "state": {
       "_model_module": "@jupyter-widgets/base",
       "_model_module_version": "1.2.0",
       "_model_name": "LayoutModel",
       "_view_count": null,
       "_view_module": "@jupyter-widgets/base",
       "_view_module_version": "1.2.0",
       "_view_name": "LayoutView",
       "align_content": null,
       "align_items": null,
       "align_self": null,
       "border": null,
       "bottom": null,
       "display": null,
       "flex": null,
       "flex_flow": null,
       "grid_area": null,
       "grid_auto_columns": null,
       "grid_auto_flow": null,
       "grid_auto_rows": null,
       "grid_column": null,
       "grid_gap": null,
       "grid_row": null,
       "grid_template_areas": null,
       "grid_template_columns": null,
       "grid_template_rows": null,
       "height": null,
       "justify_content": null,
       "justify_items": null,
       "left": null,
       "margin": null,
       "max_height": null,
       "max_width": null,
       "min_height": null,
       "min_width": null,
       "object_fit": null,
       "object_position": null,
       "order": null,
       "overflow": null,
       "overflow_x": null,
       "overflow_y": null,
       "padding": null,
       "right": null,
       "top": null,
       "visibility": null,
       "width": null
      }
     },
     "9b3458b6a24046ef908d8c26a71ea65d": {
      "model_module": "@jupyter-widgets/controls",
      "model_module_version": "1.5.0",
      "model_name": "TextModel",
      "state": {
       "_dom_classes": [],
       "_model_module": "@jupyter-widgets/controls",
       "_model_module_version": "1.5.0",
       "_model_name": "TextModel",
       "_view_count": null,
       "_view_module": "@jupyter-widgets/controls",
       "_view_module_version": "1.5.0",
       "_view_name": "TextView",
       "continuous_update": true,
       "description": "",
       "description_tooltip": null,
       "disabled": false,
       "layout": "IPY_MODEL_e2fec429a97f4f0694206dd9672435da",
       "placeholder": "Press enter to submit.",
       "style": "IPY_MODEL_b26693e382734c52ab0602a3dd184282",
       "value": ""
      }
     },
     "a7f218421703416a98032be9f14a878e": {
      "model_module": "@jupyter-widgets/controls",
      "model_module_version": "1.5.0",
      "model_name": "AccordionModel",
      "state": {
       "_dom_classes": [],
       "_model_module": "@jupyter-widgets/controls",
       "_model_module_version": "1.5.0",
       "_model_name": "AccordionModel",
       "_titles": {
        "0": "  Feedback Form"
       },
       "_view_count": null,
       "_view_module": "@jupyter-widgets/controls",
       "_view_module_version": "1.5.0",
       "_view_name": "AccordionView",
       "box_style": "",
       "children": [
        "IPY_MODEL_8737f06fc6d34d0b9b69eed931cf8b43"
       ],
       "layout": "IPY_MODEL_e0938cd43a9c4c37b7cdc57258dbbbb0",
       "selected_index": 0
      }
     },
     "b26693e382734c52ab0602a3dd184282": {
      "model_module": "@jupyter-widgets/controls",
      "model_module_version": "1.5.0",
      "model_name": "DescriptionStyleModel",
      "state": {
       "_model_module": "@jupyter-widgets/controls",
       "_model_module_version": "1.5.0",
       "_model_name": "DescriptionStyleModel",
       "_view_count": null,
       "_view_module": "@jupyter-widgets/base",
       "_view_module_version": "1.2.0",
       "_view_name": "StyleView",
       "description_width": ""
      }
     },
     "bfcea90c9609480d89b6e93d4a77cd8f": {
      "model_module": "@jupyter-widgets/base",
      "model_module_version": "1.2.0",
      "model_name": "LayoutModel",
      "state": {
       "_model_module": "@jupyter-widgets/base",
       "_model_module_version": "1.2.0",
       "_model_name": "LayoutModel",
       "_view_count": null,
       "_view_module": "@jupyter-widgets/base",
       "_view_module_version": "1.2.0",
       "_view_name": "LayoutView",
       "align_content": null,
       "align_items": null,
       "align_self": null,
       "border": null,
       "bottom": null,
       "display": null,
       "flex": null,
       "flex_flow": null,
       "grid_area": null,
       "grid_auto_columns": null,
       "grid_auto_flow": null,
       "grid_auto_rows": null,
       "grid_column": null,
       "grid_gap": null,
       "grid_row": null,
       "grid_template_areas": null,
       "grid_template_columns": null,
       "grid_template_rows": null,
       "height": null,
       "justify_content": null,
       "justify_items": null,
       "left": null,
       "margin": null,
       "max_height": null,
       "max_width": null,
       "min_height": null,
       "min_width": null,
       "object_fit": null,
       "object_position": null,
       "order": null,
       "overflow": null,
       "overflow_x": null,
       "overflow_y": null,
       "padding": null,
       "right": null,
       "top": null,
       "visibility": null,
       "width": null
      }
     },
     "ceec7647ed924052b624075e1a5fbce1": {
      "model_module": "@jupyter-widgets/base",
      "model_module_version": "1.2.0",
      "model_name": "LayoutModel",
      "state": {
       "_model_module": "@jupyter-widgets/base",
       "_model_module_version": "1.2.0",
       "_model_name": "LayoutModel",
       "_view_count": null,
       "_view_module": "@jupyter-widgets/base",
       "_view_module_version": "1.2.0",
       "_view_name": "LayoutView",
       "align_content": null,
       "align_items": "center",
       "align_self": null,
       "border": null,
       "bottom": null,
       "display": null,
       "flex": null,
       "flex_flow": null,
       "grid_area": null,
       "grid_auto_columns": null,
       "grid_auto_flow": null,
       "grid_auto_rows": null,
       "grid_column": null,
       "grid_gap": null,
       "grid_row": null,
       "grid_template_areas": null,
       "grid_template_columns": null,
       "grid_template_rows": null,
       "height": null,
       "justify_content": null,
       "justify_items": null,
       "left": null,
       "margin": null,
       "max_height": null,
       "max_width": null,
       "min_height": null,
       "min_width": null,
       "object_fit": null,
       "object_position": null,
       "order": null,
       "overflow": null,
       "overflow_x": null,
       "overflow_y": null,
       "padding": null,
       "right": null,
       "top": null,
       "visibility": null,
       "width": null
      }
     },
     "cf4bead1ea004359bdb2683e27676f20": {
      "model_module": "@jupyter-widgets/base",
      "model_module_version": "1.2.0",
      "model_name": "LayoutModel",
      "state": {
       "_model_module": "@jupyter-widgets/base",
       "_model_module_version": "1.2.0",
       "_model_name": "LayoutModel",
       "_view_count": null,
       "_view_module": "@jupyter-widgets/base",
       "_view_module_version": "1.2.0",
       "_view_name": "LayoutView",
       "align_content": null,
       "align_items": null,
       "align_self": null,
       "border": null,
       "bottom": null,
       "display": null,
       "flex": null,
       "flex_flow": null,
       "grid_area": null,
       "grid_auto_columns": null,
       "grid_auto_flow": null,
       "grid_auto_rows": null,
       "grid_column": null,
       "grid_gap": null,
       "grid_row": null,
       "grid_template_areas": null,
       "grid_template_columns": null,
       "grid_template_rows": null,
       "height": null,
       "justify_content": null,
       "justify_items": null,
       "left": null,
       "margin": null,
       "max_height": null,
       "max_width": null,
       "min_height": null,
       "min_width": null,
       "object_fit": null,
       "object_position": null,
       "order": null,
       "overflow": null,
       "overflow_x": null,
       "overflow_y": null,
       "padding": null,
       "right": null,
       "top": null,
       "visibility": null,
       "width": null
      }
     },
     "d7770d61c8de449784971c8c1efd8811": {
      "model_module": "@jupyter-widgets/controls",
      "model_module_version": "1.5.0",
      "model_name": "LabelModel",
      "state": {
       "_dom_classes": [],
       "_model_module": "@jupyter-widgets/controls",
       "_model_module_version": "1.5.0",
       "_model_name": "LabelModel",
       "_view_count": null,
       "_view_module": "@jupyter-widgets/controls",
       "_view_module_version": "1.5.0",
       "_view_name": "LabelView",
       "description": "",
       "description_tooltip": null,
       "layout": "IPY_MODEL_21bcb0dd02d4420d84ebadf2effc3505",
       "placeholder": "​",
       "style": "IPY_MODEL_e9f3ecd30e9148d395bd3405f3a2ec10",
       "value": "Was the message you saw useful?"
      }
     },
     "d9d2ac9e22e14426b033981d1d4cd136": {
      "model_module": "@jupyter-widgets/controls",
      "model_module_version": "1.5.0",
      "model_name": "VBoxModel",
      "state": {
       "_dom_classes": [],
       "_model_module": "@jupyter-widgets/controls",
       "_model_module_version": "1.5.0",
       "_model_name": "VBoxModel",
       "_view_count": null,
       "_view_module": "@jupyter-widgets/controls",
       "_view_module_version": "1.5.0",
       "_view_name": "VBoxView",
       "box_style": "",
       "children": [
        "IPY_MODEL_72fd2c285fe6444aab45b5dacacaa023",
        "IPY_MODEL_6885bfa50492414d9450e7b08d531b9a"
       ],
       "layout": "IPY_MODEL_cf4bead1ea004359bdb2683e27676f20"
      }
     },
     "e0938cd43a9c4c37b7cdc57258dbbbb0": {
      "model_module": "@jupyter-widgets/base",
      "model_module_version": "1.2.0",
      "model_name": "LayoutModel",
      "state": {
       "_model_module": "@jupyter-widgets/base",
       "_model_module_version": "1.2.0",
       "_model_name": "LayoutModel",
       "_view_count": null,
       "_view_module": "@jupyter-widgets/base",
       "_view_module_version": "1.2.0",
       "_view_name": "LayoutView",
       "align_content": null,
       "align_items": null,
       "align_self": null,
       "border": null,
       "bottom": null,
       "display": null,
       "flex": null,
       "flex_flow": null,
       "grid_area": null,
       "grid_auto_columns": null,
       "grid_auto_flow": null,
       "grid_auto_rows": null,
       "grid_column": null,
       "grid_gap": null,
       "grid_row": null,
       "grid_template_areas": null,
       "grid_template_columns": null,
       "grid_template_rows": null,
       "height": null,
       "justify_content": null,
       "justify_items": null,
       "left": null,
       "margin": null,
       "max_height": null,
       "max_width": null,
       "min_height": null,
       "min_width": null,
       "object_fit": null,
       "object_position": null,
       "order": null,
       "overflow": null,
       "overflow_x": null,
       "overflow_y": null,
       "padding": null,
       "right": null,
       "top": null,
       "visibility": null,
       "width": null
      }
     },
     "e2fec429a97f4f0694206dd9672435da": {
      "model_module": "@jupyter-widgets/base",
      "model_module_version": "1.2.0",
      "model_name": "LayoutModel",
      "state": {
       "_model_module": "@jupyter-widgets/base",
       "_model_module_version": "1.2.0",
       "_model_name": "LayoutModel",
       "_view_count": null,
       "_view_module": "@jupyter-widgets/base",
       "_view_module_version": "1.2.0",
       "_view_name": "LayoutView",
       "align_content": null,
       "align_items": null,
       "align_self": null,
       "border": null,
       "bottom": null,
       "display": null,
       "flex": null,
       "flex_flow": null,
       "grid_area": null,
       "grid_auto_columns": null,
       "grid_auto_flow": null,
       "grid_auto_rows": null,
       "grid_column": null,
       "grid_gap": null,
       "grid_row": null,
       "grid_template_areas": null,
       "grid_template_columns": null,
       "grid_template_rows": null,
       "height": null,
       "justify_content": null,
       "justify_items": null,
       "left": null,
       "margin": "0px 8px 0px 0px",
       "max_height": null,
       "max_width": null,
       "min_height": null,
       "min_width": null,
       "object_fit": null,
       "object_position": null,
       "order": null,
       "overflow": null,
       "overflow_x": null,
       "overflow_y": null,
       "padding": "0px",
       "right": null,
       "top": null,
       "visibility": null,
       "width": "50%"
      }
     },
     "e4e03918761846f9adeb52777ca47487": {
      "model_module": "@jupyter-widgets/controls",
      "model_module_version": "1.5.0",
      "model_name": "TextModel",
      "state": {
       "_dom_classes": [],
       "_model_module": "@jupyter-widgets/controls",
       "_model_module_version": "1.5.0",
       "_model_name": "TextModel",
       "_view_count": null,
       "_view_module": "@jupyter-widgets/controls",
       "_view_module_version": "1.5.0",
       "_view_name": "TextView",
       "continuous_update": true,
       "description": "",
       "description_tooltip": null,
       "disabled": false,
       "layout": "IPY_MODEL_fbe089044854478d8d2b2a0e947fd173",
       "placeholder": "Press enter to submit.",
       "style": "IPY_MODEL_38b111728e6e4c7fb097863792ca3ffe",
       "value": ""
      }
     },
     "e4ed15737d304e3e80a0fb8839b517e3": {
      "model_module": "@jupyter-widgets/base",
      "model_module_version": "1.2.0",
      "model_name": "LayoutModel",
      "state": {
       "_model_module": "@jupyter-widgets/base",
       "_model_module_version": "1.2.0",
       "_model_name": "LayoutModel",
       "_view_count": null,
       "_view_module": "@jupyter-widgets/base",
       "_view_module_version": "1.2.0",
       "_view_name": "LayoutView",
       "align_content": null,
       "align_items": null,
       "align_self": null,
       "border": null,
       "bottom": null,
       "display": null,
       "flex": null,
       "flex_flow": null,
       "grid_area": null,
       "grid_auto_columns": null,
       "grid_auto_flow": null,
       "grid_auto_rows": null,
       "grid_column": null,
       "grid_gap": null,
       "grid_row": null,
       "grid_template_areas": null,
       "grid_template_columns": null,
       "grid_template_rows": null,
       "height": null,
       "justify_content": null,
       "justify_items": null,
       "left": null,
       "margin": null,
       "max_height": null,
       "max_width": null,
       "min_height": null,
       "min_width": null,
       "object_fit": null,
       "object_position": null,
       "order": null,
       "overflow": null,
       "overflow_x": null,
       "overflow_y": null,
       "padding": null,
       "right": null,
       "top": null,
       "visibility": null,
       "width": null
      }
     },
     "e810cd269b8d41f2badf41d54303dde5": {
      "model_module": "@jupyter-widgets/base",
      "model_module_version": "1.2.0",
      "model_name": "LayoutModel",
      "state": {
       "_model_module": "@jupyter-widgets/base",
       "_model_module_version": "1.2.0",
       "_model_name": "LayoutModel",
       "_view_count": null,
       "_view_module": "@jupyter-widgets/base",
       "_view_module_version": "1.2.0",
       "_view_name": "LayoutView",
       "align_content": null,
       "align_items": null,
       "align_self": null,
       "border": null,
       "bottom": null,
       "display": null,
       "flex": null,
       "flex_flow": null,
       "grid_area": null,
       "grid_auto_columns": null,
       "grid_auto_flow": null,
       "grid_auto_rows": null,
       "grid_column": null,
       "grid_gap": null,
       "grid_row": null,
       "grid_template_areas": null,
       "grid_template_columns": null,
       "grid_template_rows": null,
       "height": null,
       "justify_content": null,
       "justify_items": null,
       "left": null,
       "margin": null,
       "max_height": null,
       "max_width": null,
       "min_height": null,
       "min_width": "80px",
       "object_fit": null,
       "object_position": null,
       "order": null,
       "overflow": null,
       "overflow_x": null,
       "overflow_y": null,
       "padding": null,
       "right": null,
       "top": null,
       "visibility": null,
       "width": "10%"
      }
     },
     "e9f3ecd30e9148d395bd3405f3a2ec10": {
      "model_module": "@jupyter-widgets/controls",
      "model_module_version": "1.5.0",
      "model_name": "DescriptionStyleModel",
      "state": {
       "_model_module": "@jupyter-widgets/controls",
       "_model_module_version": "1.5.0",
       "_model_name": "DescriptionStyleModel",
       "_view_count": null,
       "_view_module": "@jupyter-widgets/base",
       "_view_module_version": "1.2.0",
       "_view_name": "StyleView",
       "description_width": ""
      }
     },
     "f0e7814e15114838b74c3b41270e0db1": {
      "model_module": "@jupyter-widgets/controls",
      "model_module_version": "1.5.0",
      "model_name": "DescriptionStyleModel",
      "state": {
       "_model_module": "@jupyter-widgets/controls",
       "_model_module_version": "1.5.0",
       "_model_name": "DescriptionStyleModel",
       "_view_count": null,
       "_view_module": "@jupyter-widgets/base",
       "_view_module_version": "1.2.0",
       "_view_name": "StyleView",
       "description_width": ""
      }
     },
     "f29225ae84ef46e0a73e77a51250994e": {
      "model_module": "@jupyter-widgets/controls",
      "model_module_version": "1.5.0",
      "model_name": "ButtonModel",
      "state": {
       "_dom_classes": [],
       "_model_module": "@jupyter-widgets/controls",
       "_model_module_version": "1.5.0",
       "_model_name": "ButtonModel",
       "_view_count": null,
       "_view_module": "@jupyter-widgets/controls",
       "_view_module_version": "1.5.0",
       "_view_name": "ButtonView",
       "button_style": "",
       "description": "Submit",
       "disabled": false,
       "icon": "",
       "layout": "IPY_MODEL_4ff708fe1e104b128085bbf3d633ca76",
       "style": "IPY_MODEL_06f42294ec3d40b49a3dfae13a997900",
       "tooltip": ""
      }
     },
     "fbb2dbe2977f4211910b2c54fdf17eec": {
      "model_module": "@jupyter-widgets/controls",
      "model_module_version": "1.5.0",
      "model_name": "HBoxModel",
      "state": {
       "_dom_classes": [],
       "_model_module": "@jupyter-widgets/controls",
       "_model_module_version": "1.5.0",
       "_model_name": "HBoxModel",
       "_view_count": null,
       "_view_module": "@jupyter-widgets/controls",
       "_view_module_version": "1.5.0",
       "_view_name": "HBoxView",
       "box_style": "",
       "children": [
        "IPY_MODEL_e4e03918761846f9adeb52777ca47487",
        "IPY_MODEL_571db8dc8c3b462eb3de6d5758ec06c9"
       ],
       "layout": "IPY_MODEL_3235d94f56a34f72a1af366e4ee23058"
      }
     },
     "fbe089044854478d8d2b2a0e947fd173": {
      "model_module": "@jupyter-widgets/base",
      "model_module_version": "1.2.0",
      "model_name": "LayoutModel",
      "state": {
       "_model_module": "@jupyter-widgets/base",
       "_model_module_version": "1.2.0",
       "_model_name": "LayoutModel",
       "_view_count": null,
       "_view_module": "@jupyter-widgets/base",
       "_view_module_version": "1.2.0",
       "_view_name": "LayoutView",
       "align_content": null,
       "align_items": null,
       "align_self": null,
       "border": null,
       "bottom": null,
       "display": null,
       "flex": null,
       "flex_flow": null,
       "grid_area": null,
       "grid_auto_columns": null,
       "grid_auto_flow": null,
       "grid_auto_rows": null,
       "grid_column": null,
       "grid_gap": null,
       "grid_row": null,
       "grid_template_areas": null,
       "grid_template_columns": null,
       "grid_template_rows": null,
       "height": null,
       "justify_content": null,
       "justify_items": null,
       "left": null,
       "margin": "0px 8px 0px 0px",
       "max_height": null,
       "max_width": null,
       "min_height": null,
       "min_width": null,
       "object_fit": null,
       "object_position": null,
       "order": null,
       "overflow": null,
       "overflow_x": null,
       "overflow_y": null,
       "padding": "0px",
       "right": null,
       "top": null,
       "visibility": null,
       "width": "50%"
      }
     },
     "fd191d0fa12a4f0b833c43c0e14eabe0": {
      "model_module": "@jupyter-widgets/controls",
      "model_module_version": "1.5.0",
      "model_name": "LabelModel",
      "state": {
       "_dom_classes": [],
       "_model_module": "@jupyter-widgets/controls",
       "_model_module_version": "1.5.0",
       "_model_name": "LabelModel",
       "_view_count": null,
       "_view_module": "@jupyter-widgets/controls",
       "_view_module_version": "1.5.0",
       "_view_name": "LabelView",
       "description": "",
       "description_tooltip": null,
       "layout": "IPY_MODEL_42f4cad31dca46438e1d893262ca8836",
       "placeholder": "​",
       "style": "IPY_MODEL_42a8403a4d2d43dc98fb2847d1dc72f7",
       "value": "Was the message you saw useful?"
      }
     }
    },
    "version_major": 2,
    "version_minor": 0
   }
  }
 },
 "nbformat": 4,
 "nbformat_minor": 5
}
